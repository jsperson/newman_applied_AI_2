{
 "cells": [
  {
   "cell_type": "markdown",
   "metadata": {
    "application/vnd.databricks.v1+cell": {
     "cellMetadata": {},
     "inputWidgets": {},
     "nuid": "f7551d1d-faba-4568-9b6c-c588e5f56bee",
     "showTitle": false,
     "tableResultSettingsMap": {},
     "title": ""
    }
   },
   "source": [
    "## Assignment: Multiple Assumptions\n",
    "\n",
    "Use the model specified below and check the following assumptions:\n",
    "\n",
    "1. Assess Linearity & fix if necessary\n",
    "2. Assess Independence of Errors -- if violated stop here\n",
    "3. Assess Normality of Errors & fix if necessary\n",
    "4. Assess Multicollinearity & fix if necessary\n",
    "5. Assess Equal Variance of Errors & fix if necessary\n",
    "6. Determine if any influential points are in our data and fix if necessary"
   ]
  },
  {
   "cell_type": "code",
   "execution_count": 0,
   "metadata": {
    "application/vnd.databricks.v1+cell": {
     "cellMetadata": {},
     "inputWidgets": {},
     "nuid": "a0c2a2dc-5123-4757-b3aa-bed392a0b6d3",
     "showTitle": false,
     "tableResultSettingsMap": {},
     "title": ""
    },
    "scrolled": true
   },
   "outputs": [],
   "source": [
    "import pandas as pd\n",
    "import seaborn as sns\n",
    "import statsmodels.api as sm\n",
    "import numpy as np\n",
    "\n",
    "computers = pd.read_csv(\"../Data/Computers.csv\")\n",
    "\n",
    "computers.tail()"
   ]
  },
  {
   "cell_type": "markdown",
   "metadata": {
    "application/vnd.databricks.v1+cell": {
     "cellMetadata": {},
     "inputWidgets": {},
     "nuid": "814274c5-79b6-4d61-88d3-831b27ff1c56",
     "showTitle": false,
     "tableResultSettingsMap": {},
     "title": ""
    }
   },
   "source": [
    "### EDA"
   ]
  },
  {
   "cell_type": "code",
   "execution_count": 0,
   "metadata": {
    "application/vnd.databricks.v1+cell": {
     "cellMetadata": {},
     "inputWidgets": {},
     "nuid": "87471974-11e0-4764-b77e-f6d48dc19c5d",
     "showTitle": false,
     "tableResultSettingsMap": {},
     "title": ""
    }
   },
   "outputs": [],
   "source": [
    "sns.pairplot(computers, corner=True)"
   ]
  },
  {
   "cell_type": "markdown",
   "metadata": {
    "application/vnd.databricks.v1+cell": {
     "cellMetadata": {},
     "inputWidgets": {},
     "nuid": "8ae39e53-996f-4d0a-bd37-a2df10e46a78",
     "showTitle": false,
     "tableResultSettingsMap": {},
     "title": ""
    }
   },
   "source": [
    "### Model Fitting"
   ]
  },
  {
   "cell_type": "code",
   "execution_count": 0,
   "metadata": {
    "application/vnd.databricks.v1+cell": {
     "cellMetadata": {},
     "inputWidgets": {},
     "nuid": "ec7b20f9-affb-4015-9b96-9bb1c7efaa25",
     "showTitle": false,
     "tableResultSettingsMap": {},
     "title": ""
    }
   },
   "outputs": [],
   "source": [
    "cols = [\"ram\", \"speed\", \"hd\", \"screen\", \"ads\", \"trend\"]\n",
    "\n",
    "X = sm.add_constant(computers[cols])\n",
    "y = computers[\"price\"]\n",
    "\n",
    "model = sm.OLS(y, X).fit()\n",
    "\n",
    "model.summary()"
   ]
  },
  {
   "cell_type": "code",
   "execution_count": 0,
   "metadata": {
    "application/vnd.databricks.v1+cell": {
     "cellMetadata": {},
     "inputWidgets": {},
     "nuid": "7cc12654-9117-44ea-a3a8-df7bae38808c",
     "showTitle": false,
     "tableResultSettingsMap": {},
     "title": ""
    }
   },
   "outputs": [],
   "source": [
    "### Residual plotter helper function\n",
    "\n",
    "def residual_analysis_plots(model):\n",
    "    \n",
    "    import scipy.stats as stats\n",
    "    import matplotlib.pyplot as plt\n",
    "    \n",
    "    predictions = model.predict()\n",
    "    residuals = model.resid\n",
    "    \n",
    "    fig, ax = plt.subplots(1, 2, sharey=\"all\", figsize=(10, 6))\n",
    "    \n",
    "    sns.scatterplot(x=predictions, y=residuals, ax=ax[0], alpha=.3)\n",
    "    ax[0].set_title(\"Residual Plot\")\n",
    "    ax[0].set_xlabel(\"Prediction\")\n",
    "    ax[0].set_ylabel(\"Residuals\")\n",
    "    \n",
    "    stats.probplot(residuals, dist=\"norm\", plot=ax[1])\n",
    "    ax[1].set_title(\"Normal Q-Q Plot\")   "
   ]
  },
  {
   "cell_type": "markdown",
   "metadata": {
    "application/vnd.databricks.v1+cell": {
     "cellMetadata": {},
     "inputWidgets": {},
     "nuid": "e9200844-6a1e-4cfa-8ec5-417c1e1ece64",
     "showTitle": false,
     "tableResultSettingsMap": {},
     "title": ""
    }
   },
   "source": [
    "### Outliers & Influence"
   ]
  },
  {
   "cell_type": "code",
   "execution_count": 0,
   "metadata": {
    "application/vnd.databricks.v1+cell": {
     "cellMetadata": {},
     "inputWidgets": {},
     "nuid": "97bf01b2-103e-470e-90cc-04a423488937",
     "showTitle": false,
     "tableResultSettingsMap": {},
     "title": ""
    }
   },
   "outputs": [],
   "source": []
  },
  {
   "cell_type": "markdown",
   "metadata": {
    "application/vnd.databricks.v1+cell": {
     "cellMetadata": {},
     "inputWidgets": {},
     "nuid": "72481a12-28af-434f-a1f2-74f65c53301c",
     "showTitle": false,
     "tableResultSettingsMap": {},
     "title": ""
    }
   },
   "source": [
    "### Multicollinearity"
   ]
  },
  {
   "cell_type": "code",
   "execution_count": 0,
   "metadata": {
    "application/vnd.databricks.v1+cell": {
     "cellMetadata": {},
     "inputWidgets": {},
     "nuid": "ebd0e037-9581-441f-a3a1-90ecea2f7c4c",
     "showTitle": false,
     "tableResultSettingsMap": {},
     "title": ""
    }
   },
   "outputs": [],
   "source": []
  }
 ],
 "metadata": {
  "application/vnd.databricks.v1+notebook": {
   "computePreferences": null,
   "dashboards": [],
   "environmentMetadata": null,
   "inputWidgetPreferences": null,
   "language": "python",
   "notebookMetadata": {},
   "notebookName": "04_assumptions_assignments",
   "widgets": {}
  },
  "kernelspec": {
   "display_name": "Python 3 (ipykernel)",
   "language": "python",
   "name": "python3"
  },
  "language_info": {
   "name": "python"
  }
 },
 "nbformat": 4,
 "nbformat_minor": 0
}
