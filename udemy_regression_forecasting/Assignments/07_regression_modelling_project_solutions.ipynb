{
 "cells": [
  {
   "cell_type": "markdown",
   "metadata": {
    "application/vnd.databricks.v1+cell": {
     "cellMetadata": {},
     "inputWidgets": {},
     "nuid": "fb217acf-69a3-4111-90c2-7d049972d7ef",
     "showTitle": false,
     "tableResultSettingsMap": {},
     "title": ""
    }
   },
   "source": [
    "## Regression Project\n",
    "\n",
    "Build a linear regression model that predicts the `price` column in the dataset on San Francisco Apartment rentals. Make sure to go through all the the relevant steps of the modelling workflow.\n",
    "\n",
    "1. Data Cleaning has already been performed on this data\n",
    "2. Explore the data, keeping an eye on useful features and potential \n",
    "3. Choose a model validation scheme (simple or cross validation)\n",
    "4. Fit a Linear Regression Model\n",
    "5. Evaluate your model - check assumptions, metrics, and coefficient estimates\n",
    "6. Engineer Features as needed\n",
    "7. Repeat Steps 2, 4, 5, 6 as needed\n",
    "8. Once you are ready, fit your final model and report final model performance estimate by scoring on the test data. Report both test R-squared and MAE.\n",
    "\n",
    "A reasonable goal is to get a validation MAE of <= 500 dollars.\n",
    "\n",
    "Advice:\n",
    "\n",
    "1. \"Perfect\" is the enemy of \"Good\".\n",
    "2. You will not get to an MAE of 0, we don't have perfect data, and there is some randomness and emotion in how things like apartment prices are set.\n",
    "3. Modelling is challenging, especially if you're new. There isn't a \"right\" answer, but some models are better than others. Remember - \"All Models are wrong, but some are useful\" \n",
    "4. We will likely end up with different models and performance metrics, and that's ok. You can always implement new ideas after watching the solution video. I didn't do anything too fancy, so you might think of some great ideas I didn't!\n",
    "5. Enjoy the process, and remember that at some point it's time to let the model go. No amount of feature engineering will achieve a perfect model."
   ]
  },
  {
   "cell_type": "code",
   "execution_count": 0,
   "metadata": {
    "application/vnd.databricks.v1+cell": {
     "cellMetadata": {},
     "inputWidgets": {},
     "nuid": "6dc0a395-67b5-44dc-91cc-017071883052",
     "showTitle": false,
     "tableResultSettingsMap": {},
     "title": ""
    }
   },
   "outputs": [],
   "source": [
    "import pandas as pd\n",
    "import numpy as np\n",
    "import matplotlib.pyplot as plt\n",
    "import seaborn as sns\n",
    "\n",
    "import statsmodels.api as sm\n",
    "from sklearn.model_selection import KFold\n",
    "from sklearn.metrics import r2_score as r2, mean_absolute_error as mae, mean_squared_error as mse\n",
    "\n",
    "rentals_df = pd.read_csv(\"../Data/sf_clean.csv\")\n",
    "\n",
    "rentals_df.head()"
   ]
  },
  {
   "cell_type": "markdown",
   "metadata": {
    "application/vnd.databricks.v1+cell": {
     "cellMetadata": {},
     "inputWidgets": {},
     "nuid": "988bfac4-4ae9-4047-9d0c-564f9b844d9e",
     "showTitle": false,
     "tableResultSettingsMap": {},
     "title": ""
    }
   },
   "source": [
    "### Data Dictionary\n",
    "\n",
    "1. Price: The price of the rental and our target variable\n",
    "2. sqft: The area in square feet of the rental\n",
    "3. beds: The number of bedrooms in the rental\n",
    "4. bath: The number of bathrooms in the rental\n",
    "5. laundry: Does the rental have a laundry machine inside the house, a shared laundry machine, or no laundry on site?\n",
    "6. pets: Does the rental allow pets? Cats only, dogs only or both cats and dogs?\n",
    "7. Housing type: Is the rental in a multi-unit building, a building with two units, or a stand alone house? \n",
    "8. Parking: Does the apartment off a parking space? No, protected in a garage, off-street in a parking lot, or valet service?\n",
    "9. Hood district: Which part of San Francisco is the apartment located?\n",
    "\n",
    "![image info](SFAR_map.png)"
   ]
  },
  {
   "cell_type": "code",
   "execution_count": 0,
   "metadata": {
    "application/vnd.databricks.v1+cell": {
     "cellMetadata": {},
     "inputWidgets": {},
     "nuid": "0ee4be67-8877-4983-a632-b88461d1d81d",
     "showTitle": false,
     "tableResultSettingsMap": {},
     "title": ""
    }
   },
   "outputs": [],
   "source": [
    "rentals_df.info()"
   ]
  },
  {
   "cell_type": "markdown",
   "metadata": {
    "application/vnd.databricks.v1+cell": {
     "cellMetadata": {},
     "inputWidgets": {},
     "nuid": "bdc49f49-639f-452c-8b6d-d93a43a33753",
     "showTitle": false,
     "tableResultSettingsMap": {},
     "title": ""
    }
   },
   "source": [
    "## EDA\n",
    "\n",
    "1. Based on the range of prices below, we may need to subset our data based on some value to predict more \"realistic\" apartments. Possibly subset based on square-footage.\n",
    "\n",
    "2. The 'hood_district' feature was read in as an integer but is really a categorical feature. Let's fix that.\n"
   ]
  },
  {
   "cell_type": "code",
   "execution_count": 0,
   "metadata": {
    "application/vnd.databricks.v1+cell": {
     "cellMetadata": {},
     "inputWidgets": {},
     "nuid": "f70e6848-8072-44d9-80fd-0b32e180a2e0",
     "showTitle": false,
     "tableResultSettingsMap": {},
     "title": ""
    }
   },
   "outputs": [],
   "source": [
    "rentals_df[\"hood_district\"] = rentals_df[\"hood_district\"].astype(\"object\") "
   ]
  },
  {
   "cell_type": "code",
   "execution_count": 0,
   "metadata": {
    "application/vnd.databricks.v1+cell": {
     "cellMetadata": {},
     "inputWidgets": {},
     "nuid": "115b4a96-3d0f-4b79-ac4f-ce935d68cd21",
     "showTitle": false,
     "tableResultSettingsMap": {},
     "title": ""
    }
   },
   "outputs": [],
   "source": [
    "rentals_df.describe()"
   ]
  },
  {
   "cell_type": "markdown",
   "metadata": {
    "application/vnd.databricks.v1+cell": {
     "cellMetadata": {},
     "inputWidgets": {},
     "nuid": "5da7af60-99b5-49ec-86d9-028806b2fd82",
     "showTitle": false,
     "tableResultSettingsMap": {},
     "title": ""
    }
   },
   "source": [
    "There are some very rare, expensive apartments that cost over 10k."
   ]
  },
  {
   "cell_type": "code",
   "execution_count": 0,
   "metadata": {
    "application/vnd.databricks.v1+cell": {
     "cellMetadata": {},
     "inputWidgets": {},
     "nuid": "657f6794-258c-4772-8f31-1603ec776c1e",
     "showTitle": false,
     "tableResultSettingsMap": {},
     "title": ""
    }
   },
   "outputs": [],
   "source": [
    "sns.histplot(rentals_df, x=\"price\")"
   ]
  },
  {
   "cell_type": "markdown",
   "metadata": {
    "application/vnd.databricks.v1+cell": {
     "cellMetadata": {},
     "inputWidgets": {},
     "nuid": "d46d102e-978e-4568-844e-a4b263e0f626",
     "showTitle": false,
     "tableResultSettingsMap": {},
     "title": ""
    }
   },
   "source": [
    "Most of our numeric features are positively correlated with each other, could cause problems.\n",
    "\n",
    "It's good to see that we have some strong correlations with our target here though."
   ]
  },
  {
   "cell_type": "code",
   "execution_count": 0,
   "metadata": {
    "application/vnd.databricks.v1+cell": {
     "cellMetadata": {},
     "inputWidgets": {},
     "nuid": "19fab78f-98e2-4757-aa58-059b858150c7",
     "showTitle": false,
     "tableResultSettingsMap": {},
     "title": ""
    }
   },
   "outputs": [],
   "source": [
    "sns.heatmap(\n",
    "    rentals_df.corr(numeric_only=True), \n",
    "    vmin=-1, \n",
    "    vmax=1, \n",
    "    cmap=\"coolwarm\",\n",
    "    annot=True\n",
    ");"
   ]
  },
  {
   "cell_type": "markdown",
   "metadata": {
    "application/vnd.databricks.v1+cell": {
     "cellMetadata": {},
     "inputWidgets": {},
     "nuid": "68a1a1c9-c68a-49a0-baf6-49e055a5b16e",
     "showTitle": false,
     "tableResultSettingsMap": {},
     "title": ""
    }
   },
   "source": [
    "Based on the pairplot below, we may be able to slice off the most expensive aparments by subsetting to only aparments <2500 sqft. "
   ]
  },
  {
   "cell_type": "code",
   "execution_count": 0,
   "metadata": {
    "application/vnd.databricks.v1+cell": {
     "cellMetadata": {},
     "inputWidgets": {},
     "nuid": "40e40d81-9b69-4e0d-9910-d5a1b7fcc37f",
     "showTitle": false,
     "tableResultSettingsMap": {},
     "title": ""
    }
   },
   "outputs": [],
   "source": [
    "sns.pairplot(rentals_df, corner=True)"
   ]
  },
  {
   "cell_type": "markdown",
   "metadata": {
    "application/vnd.databricks.v1+cell": {
     "cellMetadata": {},
     "inputWidgets": {},
     "nuid": "9b8b82b6-5765-4e0a-a311-dd94196e40d4",
     "showTitle": false,
     "tableResultSettingsMap": {},
     "title": ""
    }
   },
   "source": [
    "Moving on to our categorical features, we have some rare categories that may need to be binned together.\n",
    "\n",
    "We should consider:\n",
    "\n",
    "1. Pets: Bin 'dogs', and 'both' into a 'dogs' 'allows_dogs' category.\n",
    "2. Housing_type: Group 'multi' and 'double' together\n",
    "3. Parking: Group 'protected', 'off-street', and 'valet' together\n",
    "4. We should bin some of our lower count neighbhoords with neighboring ones. Let's look at average pricing for each and see which are related based on price."
   ]
  },
  {
   "cell_type": "code",
   "execution_count": 0,
   "metadata": {
    "application/vnd.databricks.v1+cell": {
     "cellMetadata": {},
     "inputWidgets": {},
     "nuid": "73f47743-f394-41fa-a028-ca1652324a2c",
     "showTitle": false,
     "tableResultSettingsMap": {},
     "title": ""
    }
   },
   "outputs": [],
   "source": [
    "# Let's check the frequency of our categorical features\n",
    "\n",
    "def value_counter(dataframe):\n",
    "    value_series = pd.DataFrame()\n",
    "    for col in dataframe.select_dtypes([\"object\"]).columns:\n",
    "        print(dataframe[col].value_counts())\n",
    "        \n",
    "        \n",
    "value_counter(rentals_df)"
   ]
  },
  {
   "cell_type": "code",
   "execution_count": 0,
   "metadata": {
    "application/vnd.databricks.v1+cell": {
     "cellMetadata": {},
     "inputWidgets": {},
     "nuid": "c341ad04-686f-43b3-9b20-bc40d2f4ed55",
     "showTitle": false,
     "tableResultSettingsMap": {},
     "title": ""
    },
    "scrolled": false
   },
   "outputs": [],
   "source": [
    "def cat_plotter(data, target):\n",
    "    for col in data.select_dtypes([\"object\"]).columns:\n",
    "        sns.barplot(data=data, x=col, y=target)\n",
    "        plt.xticks(rotation=45)\n",
    "        plt.show()\n",
    "        \n",
    "cat_plotter(rentals_df, \"price\")"
   ]
  },
  {
   "cell_type": "markdown",
   "metadata": {
    "application/vnd.databricks.v1+cell": {
     "cellMetadata": {},
     "inputWidgets": {},
     "nuid": "f4c86034-7683-445c-9007-0ade2296d30b",
     "showTitle": false,
     "tableResultSettingsMap": {},
     "title": ""
    }
   },
   "source": [
    "# Feature Engineering\n",
    "\n",
    "1. Group Categories together\n",
    "2. Trying a Squared Term for Bedrooms, sqft, and bath"
   ]
  },
  {
   "cell_type": "code",
   "execution_count": 0,
   "metadata": {
    "application/vnd.databricks.v1+cell": {
     "cellMetadata": {},
     "inputWidgets": {},
     "nuid": "d233ac8b-a5d2-4f52-a748-671eeee538ef",
     "showTitle": false,
     "tableResultSettingsMap": {},
     "title": ""
    }
   },
   "outputs": [],
   "source": [
    "laundry_map = {\n",
    "    \"(a) in-unit\": \"in_unit\",\n",
    "    \"(b) on-site\": \"not_in_unit\",\n",
    "    \"(c) no laundry\": \"not_in_unit\",\n",
    "}\n",
    "\n",
    "pet_map = {\n",
    "    \"(a) both\": \"allows_dogs\",\n",
    "    \"(b) dogs\": \"allows_dogs\",\n",
    "    \"(c) cats\": \"no_dogs\",\n",
    "    \"(d) no pets\": \"no_dogs\"\n",
    "}\n",
    "\n",
    "\n",
    "housing_type_map = {\n",
    "    \"(a) single\": \"single\",\n",
    "    \"(b) double\": \"multi\",\n",
    "    \"(c) multi\": \"multi\",\n",
    "}\n",
    "\n",
    "district_map = {\n",
    "    1.0: \"west\",\n",
    "    2.0: \"southwest\",\n",
    "    3.0: \"southwest\",\n",
    "    4.0: \"central\",\n",
    "    5.0: \"central\",\n",
    "    6.0: \"central\",\n",
    "    7.0: \"marina\",\n",
    "    8.0: \"north beach\",\n",
    "    9.0: \"FiDi/SOMA\",\n",
    "    10.0: \"southwest\"\n",
    "    \n",
    "}"
   ]
  },
  {
   "cell_type": "code",
   "execution_count": 0,
   "metadata": {
    "application/vnd.databricks.v1+cell": {
     "cellMetadata": {},
     "inputWidgets": {},
     "nuid": "a985373c-ab01-4e08-96c6-4bcc4008fb3b",
     "showTitle": false,
     "tableResultSettingsMap": {},
     "title": ""
    }
   },
   "outputs": [],
   "source": [
    "eng_df = rentals_df.assign(\n",
    "    hood_district = rentals_df[\"hood_district\"].map(district_map),\n",
    "    housing_type = rentals_df[\"housing_type\"].map(housing_type_map),\n",
    "    pets = rentals_df[\"pets\"].map(pet_map),\n",
    "    laundry = rentals_df[\"laundry\"].map(laundry_map),\n",
    "#     sqft2 = rentals_df[\"sqft\"] ** 2,\n",
    "#     sqft3 = rentals_df[\"sqft\"] ** 3,\n",
    "#     beds2 = rentals_df[\"beds\"] ** 2,\n",
    "#     beds3 = rentals_df[\"beds\"] ** 3,\n",
    "#     bath2 = rentals_df[\"bath\"] ** 2,\n",
    "#     bath3 = rentals_df[\"bath\"] ** 3,\n",
    "    beds_bath_ratio = rentals_df[\"beds\"] / rentals_df[\"bath\"]\n",
    ")\n",
    "\n",
    "eng_df = pd.get_dummies(eng_df, drop_first=True)"
   ]
  },
  {
   "cell_type": "code",
   "execution_count": 0,
   "metadata": {
    "application/vnd.databricks.v1+cell": {
     "cellMetadata": {},
     "inputWidgets": {},
     "nuid": "08e97aa5-83d7-4c4d-988a-deb0dfc24a9e",
     "showTitle": false,
     "tableResultSettingsMap": {},
     "title": ""
    }
   },
   "outputs": [],
   "source": [
    "eng_df.head()"
   ]
  },
  {
   "cell_type": "code",
   "execution_count": 0,
   "metadata": {
    "application/vnd.databricks.v1+cell": {
     "cellMetadata": {},
     "inputWidgets": {},
     "nuid": "bd345da5-1a72-40f6-a957-0e9139096c26",
     "showTitle": false,
     "tableResultSettingsMap": {},
     "title": ""
    }
   },
   "outputs": [],
   "source": [
    "from sklearn.model_selection import train_test_split\n",
    "\n",
    "target = \"price\"\n",
    "drop_cols = [\n",
    "    \"pets_no_dogs\",\n",
    "    \"housing_type_single\",\n",
    "    \"beds_bath_ratio\"\n",
    "]\n",
    "\n",
    "X = sm.add_constant(eng_df.drop([target] + drop_cols, axis=1))\n",
    "\n",
    "# Log transform slightly improves normality\n",
    "y = np.log(eng_df[target])\n",
    "# y = eng_df[target]\n",
    "\n",
    "# Test Split\n",
    "X, X_test, y, y_test = train_test_split(X, y, test_size=.2, random_state=2023)"
   ]
  },
  {
   "cell_type": "code",
   "execution_count": 0,
   "metadata": {
    "application/vnd.databricks.v1+cell": {
     "cellMetadata": {},
     "inputWidgets": {},
     "nuid": "84c16761-d52a-4580-9ad0-53d5e1a28f03",
     "showTitle": false,
     "tableResultSettingsMap": {},
     "title": ""
    },
    "scrolled": false
   },
   "outputs": [],
   "source": [
    "def cross_val(X, y, n_splits):\n",
    "    kf = KFold(n_splits=n_splits, shuffle=True, random_state=2023)\n",
    "    # Create a list to store validation scores for each fold\n",
    "\n",
    "    cv_lm_tr_r2s = []\n",
    "    cv_lm_tr_mae = []\n",
    "    cv_lm_val_r2s = []\n",
    "    cv_lm_val_mae = []\n",
    "    \n",
    "    for train_ind, val_ind in kf.split(X, y):\n",
    "        # Subset data based on CV folds\n",
    "        X_train, y_train = X.iloc[train_ind], y.iloc[train_ind]\n",
    "        X_val, y_val = X.iloc[val_ind], y.iloc[val_ind]\n",
    "        # Fit the Model on fold's training data\n",
    "        model = sm.OLS(y_train, X_train).fit()\n",
    "        # Append Validation score to list \n",
    "        cv_lm_tr_r2s.append(r2(y_train, model.predict(X_train)))\n",
    "        cv_lm_tr_mae.append(mae(y_train, model.predict(X_train)))\n",
    "        cv_lm_val_r2s.append(r2(y_val, model.predict(X_val),))\n",
    "        cv_lm_val_mae.append(mae(y_val, model.predict(X_val),))\n",
    "        \n",
    "        \n",
    "    print(f\"All Training R2s: {[round(x, 3) for x in cv_lm_tr_r2s]}\")\n",
    "    print(f\"Training R2s: {round(np.mean(cv_lm_tr_r2s), 3)} +- {round(np.std(cv_lm_tr_r2s), 3)}\")\n",
    "    \n",
    "    print(f\"Training MAEs: {[round(x, 3) for x in cv_lm_tr_mae]}\")\n",
    "    print(f\"Training MAEs: {round(np.mean(cv_lm_tr_mae), 3)} +- {round(np.std(cv_lm_tr_mae), 3)}\")    \n",
    "        \n",
    "    print(f\"All Validation R2s: {[round(x, 3) for x in cv_lm_val_r2s]}\")\n",
    "    print(f\"Cross Val R2s: {round(np.mean(cv_lm_val_r2s), 3)} +- {round(np.std(cv_lm_val_r2s), 3)}\")\n",
    "\n",
    "    print(f\"All Validation MAEs: {[round(x, 3) for x in cv_lm_val_mae]}\")\n",
    "    print(f\"Cross Val MAEs: {round(np.mean(cv_lm_val_mae), 3)} +- {round(np.std(cv_lm_val_mae), 3)}\")\n",
    "    \n",
    "    return model\n",
    "    \n",
    "model = cross_val(X, y, 5)"
   ]
  },
  {
   "cell_type": "code",
   "execution_count": 0,
   "metadata": {
    "application/vnd.databricks.v1+cell": {
     "cellMetadata": {},
     "inputWidgets": {},
     "nuid": "a88a0d10-3a47-498c-b51a-c6a2b5c43eec",
     "showTitle": false,
     "tableResultSettingsMap": {},
     "title": ""
    }
   },
   "outputs": [],
   "source": [
    "# Model p-values: a few features have > .05\n",
    "\n",
    "model.summary()"
   ]
  },
  {
   "cell_type": "markdown",
   "metadata": {
    "application/vnd.databricks.v1+cell": {
     "cellMetadata": {},
     "inputWidgets": {},
     "nuid": "b1527c60-efbb-4b6b-9ae4-d328d2de8e16",
     "showTitle": false,
     "tableResultSettingsMap": {},
     "title": ""
    }
   },
   "source": [
    "1. Linearity - no obvious curvature\n",
    "2. Independence - DW Test Statistic Looks Good!\n",
    "3. Normality - Slighly off before log transform, much better afterwards... may not be worth interpretability\n",
    "4. No Perfect MultiCollinearity - VIFs look OK\n",
    "5. Equal Variance - slight heteroskedasticity prior to log transform"
   ]
  },
  {
   "cell_type": "code",
   "execution_count": 0,
   "metadata": {
    "application/vnd.databricks.v1+cell": {
     "cellMetadata": {},
     "inputWidgets": {},
     "nuid": "398b4fde-ab15-40bb-8268-edd79575b497",
     "showTitle": false,
     "tableResultSettingsMap": {},
     "title": ""
    }
   },
   "outputs": [],
   "source": [
    "def residual_analysis_plots(model):\n",
    "    \n",
    "    import scipy.stats as stats\n",
    "    import matplotlib.pyplot as plt\n",
    "    \n",
    "    predictions = model.predict()\n",
    "    residuals = model.resid\n",
    "    \n",
    "    fig, ax = plt.subplots(1, 2, sharey=\"all\", figsize=(10, 6))\n",
    "    \n",
    "    sns.scatterplot(x=predictions, y=residuals, ax=ax[0])\n",
    "    ax[0].set_title(\"Residual Plot\")\n",
    "    ax[0].set_xlabel(\"Prediction\")\n",
    "    ax[0].set_ylabel(\"Residuals\")\n",
    "    \n",
    "    stats.probplot(residuals, dist=\"norm\", plot=ax[1])\n",
    "    ax[1].set_title(\"Normal Q-Q Plot\")   "
   ]
  },
  {
   "cell_type": "code",
   "execution_count": 0,
   "metadata": {
    "application/vnd.databricks.v1+cell": {
     "cellMetadata": {},
     "inputWidgets": {},
     "nuid": "a467fa59-babd-44c5-ba18-6e2933816ad2",
     "showTitle": false,
     "tableResultSettingsMap": {},
     "title": ""
    }
   },
   "outputs": [],
   "source": [
    "residual_analysis_plots(model)"
   ]
  },
  {
   "cell_type": "code",
   "execution_count": 0,
   "metadata": {
    "application/vnd.databricks.v1+cell": {
     "cellMetadata": {},
     "inputWidgets": {},
     "nuid": "568dd18c-dea7-4256-90f3-3afe83170471",
     "showTitle": false,
     "tableResultSettingsMap": {},
     "title": ""
    }
   },
   "outputs": [],
   "source": [
    "# VIF Looks OK -- our parking dummy features are a bit high but no major concern\n",
    "\n",
    "from statsmodels.stats.outliers_influence import variance_inflation_factor as vif\n",
    "\n",
    "pd.Series(\n",
    "    [vif(X.values, i) for i in range(X.shape[1])],\n",
    "    index=X.columns\n",
    ")"
   ]
  },
  {
   "cell_type": "code",
   "execution_count": 0,
   "metadata": {
    "application/vnd.databricks.v1+cell": {
     "cellMetadata": {},
     "inputWidgets": {},
     "nuid": "b880b884-a420-42cc-a342-800f40f6530b",
     "showTitle": false,
     "tableResultSettingsMap": {},
     "title": ""
    }
   },
   "outputs": [],
   "source": [
    "influence = model.get_influence()\n",
    "inf_summary_df = influence.summary_frame()\n",
    "inf_summary_df[\"cooks_d\"].sort_values(ascending=False).head()"
   ]
  },
  {
   "cell_type": "markdown",
   "metadata": {
    "application/vnd.databricks.v1+cell": {
     "cellMetadata": {},
     "inputWidgets": {},
     "nuid": "2b46f732-20f7-4ad2-92a1-3f8e2f0fbefc",
     "showTitle": false,
     "tableResultSettingsMap": {},
     "title": ""
    }
   },
   "source": [
    "## Final Model Fit"
   ]
  },
  {
   "cell_type": "code",
   "execution_count": 0,
   "metadata": {
    "application/vnd.databricks.v1+cell": {
     "cellMetadata": {},
     "inputWidgets": {},
     "nuid": "52f268fa-a0c5-46de-8097-a9d161b9b500",
     "showTitle": false,
     "tableResultSettingsMap": {},
     "title": ""
    }
   },
   "outputs": [],
   "source": [
    "final_model = sm.OLS(y, X).fit()\n",
    "\n",
    "final_model.summary()"
   ]
  },
  {
   "cell_type": "code",
   "execution_count": 0,
   "metadata": {
    "application/vnd.databricks.v1+cell": {
     "cellMetadata": {},
     "inputWidgets": {},
     "nuid": "6e96518e-b7fb-4819-be83-a32d703f455b",
     "showTitle": false,
     "tableResultSettingsMap": {},
     "title": ""
    }
   },
   "outputs": [],
   "source": [
    "print(mae(np.exp(y_test), np.exp(final_model.predict(X_test)))) \n",
    "# print(f\"Test MAE: {mae(y_test, model.predict(X_test))}\") #468.13 if not transformed\n",
    "print(f\"Test R2: {r2(y_test, final_model.predict(X_test))}\")"
   ]
  }
 ],
 "metadata": {
  "application/vnd.databricks.v1+notebook": {
   "computePreferences": null,
   "dashboards": [],
   "environmentMetadata": null,
   "inputWidgetPreferences": null,
   "language": "python",
   "notebookMetadata": {},
   "notebookName": "07_regression_modelling_project_solutions",
   "widgets": {}
  },
  "kernelspec": {
   "display_name": "Python 3 (ipykernel)",
   "language": "python",
   "name": "python3"
  },
  "language_info": {
   "name": "python"
  }
 },
 "nbformat": 4,
 "nbformat_minor": 0
}
