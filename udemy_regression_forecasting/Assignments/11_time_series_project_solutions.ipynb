{
 "cells": [
  {
   "cell_type": "markdown",
   "metadata": {
    "application/vnd.databricks.v1+cell": {
     "cellMetadata": {},
     "inputWidgets": {},
     "nuid": "3d683ad4-d140-49f2-a95a-1ae3632547a1",
     "showTitle": false,
     "tableResultSettingsMap": {},
     "title": ""
    }
   },
   "source": [
    "## Time Series Project\n",
    "\n",
    "1. Explore the Electricity Dataset, using tools like line charts and decomposition\n",
    "2. Forecast the first three days of February (72 hours) of Electricity consumption for column `PowerConsumption_Zone1`, using the entire month of January to train your Model.\n",
    "3. Linear Regression and Facebook Prophet. Compare their accuracy using plots of predicted vs. actual, as well as metrics like MAE and MAPE\n"
   ]
  },
  {
   "cell_type": "code",
   "execution_count": 0,
   "metadata": {
    "application/vnd.databricks.v1+cell": {
     "cellMetadata": {},
     "inputWidgets": {},
     "nuid": "10f291c7-67cd-44cf-99c1-16b97cbb46fa",
     "showTitle": false,
     "tableResultSettingsMap": {},
     "title": ""
    },
    "scrolled": false
   },
   "outputs": [],
   "source": [
    "import pandas as pd\n",
    "import numpy as np\n",
    "import seaborn as sns\n",
    "import matplotlib.pyplot as plt\n",
    "\n",
    "import statsmodels.api as sm\n",
    "\n",
    "electricity_df = pd.read_csv(\n",
    "    \"../Data/powerconsumption.csv\", \n",
    "    index_col=[\"Datetime\"],\n",
    "    parse_dates=[\"Datetime\"]\n",
    ").resample(\"H\").mean()\n",
    "\n",
    "electricity_df.head()"
   ]
  },
  {
   "cell_type": "markdown",
   "metadata": {
    "application/vnd.databricks.v1+cell": {
     "cellMetadata": {},
     "inputWidgets": {},
     "nuid": "15b328e6-67ad-494f-ba7c-dc6e06c39267",
     "showTitle": false,
     "tableResultSettingsMap": {},
     "title": ""
    }
   },
   "source": [
    "## EDA"
   ]
  },
  {
   "cell_type": "code",
   "execution_count": 0,
   "metadata": {
    "application/vnd.databricks.v1+cell": {
     "cellMetadata": {},
     "inputWidgets": {},
     "nuid": "66c5562f-82c0-494e-a5ef-79595a5667ee",
     "showTitle": false,
     "tableResultSettingsMap": {},
     "title": ""
    }
   },
   "outputs": [],
   "source": [
    "electricity_df[\"PowerConsumption_Zone1\"].iloc[:744].plot()"
   ]
  },
  {
   "cell_type": "code",
   "execution_count": 0,
   "metadata": {
    "application/vnd.databricks.v1+cell": {
     "cellMetadata": {},
     "inputWidgets": {},
     "nuid": "1c260bd2-426b-49e6-bbc7-85f23c30f97a",
     "showTitle": false,
     "tableResultSettingsMap": {},
     "title": ""
    }
   },
   "outputs": [],
   "source": [
    "from statsmodels.tsa.seasonal import seasonal_decompose\n",
    "\n",
    "results = seasonal_decompose(electricity_df[\"PowerConsumption_Zone1\"].iloc[:744], period=(24 * 7))\n",
    "\n",
    "results.plot();"
   ]
  },
  {
   "cell_type": "markdown",
   "metadata": {
    "application/vnd.databricks.v1+cell": {
     "cellMetadata": {},
     "inputWidgets": {},
     "nuid": "f62b7690-c099-4dc8-b2a7-f3b0ade79942",
     "showTitle": false,
     "tableResultSettingsMap": {},
     "title": ""
    }
   },
   "source": [
    "## Linear Regression"
   ]
  },
  {
   "cell_type": "code",
   "execution_count": 0,
   "metadata": {
    "application/vnd.databricks.v1+cell": {
     "cellMetadata": {},
     "inputWidgets": {},
     "nuid": "f2f7dd8d-740a-4e93-ad86-1ca6addc738c",
     "showTitle": false,
     "tableResultSettingsMap": {},
     "title": ""
    }
   },
   "outputs": [],
   "source": [
    "electricity_df = electricity_df[\"PowerConsumption_Zone1\"].reset_index()\n",
    "\n",
    "electricity_df = electricity_df.assign(\n",
    "    trend = electricity_df.index,\n",
    "    hour = electricity_df[\"Datetime\"].dt.hour.astype(\"string\"),\n",
    "#     day_of_week = electricity_df[\"Datetime\"].dt.dayofweek.astype(\"string\"),\n",
    ").set_index(\"Datetime\")\n",
    "\n",
    "electricity_df = pd.get_dummies(electricity_df, drop_first=True)\n",
    "\n",
    "electricity_df.head()\n",
    "\n",
    "electricity_df.info()"
   ]
  },
  {
   "cell_type": "code",
   "execution_count": 0,
   "metadata": {
    "application/vnd.databricks.v1+cell": {
     "cellMetadata": {},
     "inputWidgets": {},
     "nuid": "89597f61-f69f-430e-8e3b-c477c913c6bd",
     "showTitle": false,
     "tableResultSettingsMap": {},
     "title": ""
    }
   },
   "outputs": [],
   "source": [
    "electricity_train = electricity_df.loc[:\"2017-01-31\"]\n",
    "electricity_test = electricity_df.loc[\"2017-02-01\": \"2017-02-03\"]\n",
    "\n",
    "X_train = sm.add_constant(electricity_train.drop(\"PowerConsumption_Zone1\", axis=1))\n",
    "y_train = electricity_train[\"PowerConsumption_Zone1\"]\n",
    "\n",
    "X_test = sm.add_constant(electricity_test.drop(\"PowerConsumption_Zone1\", axis=1))\n",
    "y_test = electricity_test[\"PowerConsumption_Zone1\"]"
   ]
  },
  {
   "cell_type": "code",
   "execution_count": 0,
   "metadata": {
    "application/vnd.databricks.v1+cell": {
     "cellMetadata": {},
     "inputWidgets": {},
     "nuid": "1db61efd-7f60-4107-bd64-7815868aaeb3",
     "showTitle": false,
     "tableResultSettingsMap": {},
     "title": ""
    },
    "scrolled": false
   },
   "outputs": [],
   "source": [
    "import statsmodels.api as sm\n",
    "\n",
    "model = sm.OLS(y_train, X_train).fit()\n",
    "model.summary()"
   ]
  },
  {
   "cell_type": "code",
   "execution_count": 0,
   "metadata": {
    "application/vnd.databricks.v1+cell": {
     "cellMetadata": {},
     "inputWidgets": {},
     "nuid": "4f305f9d-91f0-4f50-a26f-72885aa37375",
     "showTitle": false,
     "tableResultSettingsMap": {},
     "title": ""
    }
   },
   "outputs": [],
   "source": [
    "from sklearn.metrics import mean_absolute_error as mae\n",
    "from sklearn.metrics import mean_absolute_percentage_error as mape\n",
    "\n",
    "print(f\"MAE: {mae(y_test, model.predict(X_test))}\")\n",
    "print(f\"MAPE: {mape(y_test, model.predict(X_test))}\")"
   ]
  },
  {
   "cell_type": "code",
   "execution_count": 0,
   "metadata": {
    "application/vnd.databricks.v1+cell": {
     "cellMetadata": {},
     "inputWidgets": {},
     "nuid": "e6d6fe67-9255-4625-9619-db782f0016d7",
     "showTitle": false,
     "tableResultSettingsMap": {},
     "title": ""
    }
   },
   "outputs": [],
   "source": [
    "test_preds = pd.DataFrame({\n",
    "    \"actuals\": y_test.values, \n",
    "    \"predicted\": model.predict(X_test)\n",
    "})\n",
    "\n",
    "test_preds.plot(ylim=0)"
   ]
  },
  {
   "cell_type": "markdown",
   "metadata": {
    "application/vnd.databricks.v1+cell": {
     "cellMetadata": {},
     "inputWidgets": {},
     "nuid": "4c2e4482-a7b8-4a91-a973-dc76dfc28869",
     "showTitle": false,
     "tableResultSettingsMap": {},
     "title": ""
    }
   },
   "source": [
    "## Facebook Prophet"
   ]
  },
  {
   "cell_type": "code",
   "execution_count": 0,
   "metadata": {
    "application/vnd.databricks.v1+cell": {
     "cellMetadata": {},
     "inputWidgets": {},
     "nuid": "e339f6fc-9af9-4923-8b28-5d0b543fbb1f",
     "showTitle": false,
     "tableResultSettingsMap": {},
     "title": ""
    }
   },
   "outputs": [],
   "source": [
    "from prophet import Prophet\n",
    "\n",
    "electricity_prophet = (\n",
    "    electricity_df\n",
    "    .reset_index()\n",
    "    .rename({\"Datetime\": \"ds\", \"PowerConsumption_Zone1\": \"y\"}, axis=1)\n",
    ")\n",
    "\n",
    "electricity_train = electricity_prophet.query(\"ds < '2017-02-01'\")   \n",
    "electricity_test = electricity_prophet.query(\"'2017-02-01' <= ds < '2017-02-04'\")\n",
    "                                            \n",
    "electricity_test.tail()                                              "
   ]
  },
  {
   "cell_type": "code",
   "execution_count": 0,
   "metadata": {
    "application/vnd.databricks.v1+cell": {
     "cellMetadata": {},
     "inputWidgets": {},
     "nuid": "7fb659e1-9506-4fde-babf-b830110836b8",
     "showTitle": false,
     "tableResultSettingsMap": {},
     "title": ""
    }
   },
   "outputs": [],
   "source": [
    "model = Prophet()\n",
    "model.fit(electricity_train[[\"ds\", \"y\"]])"
   ]
  },
  {
   "cell_type": "code",
   "execution_count": 0,
   "metadata": {
    "application/vnd.databricks.v1+cell": {
     "cellMetadata": {},
     "inputWidgets": {},
     "nuid": "4083a413-f72e-4b1e-9c95-fcc6a1778f05",
     "showTitle": false,
     "tableResultSettingsMap": {},
     "title": ""
    }
   },
   "outputs": [],
   "source": [
    "future = model.make_future_dataframe(periods=72, freq=\"H\")\n",
    "\n",
    "forecast = model.predict(future)\n",
    "\n",
    "model.plot(forecast);"
   ]
  },
  {
   "cell_type": "code",
   "execution_count": 0,
   "metadata": {
    "application/vnd.databricks.v1+cell": {
     "cellMetadata": {},
     "inputWidgets": {},
     "nuid": "a430b16d-cc30-4407-a215-bc24e9faadee",
     "showTitle": false,
     "tableResultSettingsMap": {},
     "title": ""
    }
   },
   "outputs": [],
   "source": [
    "model.plot_components(forecast);"
   ]
  },
  {
   "cell_type": "code",
   "execution_count": 0,
   "metadata": {
    "application/vnd.databricks.v1+cell": {
     "cellMetadata": {},
     "inputWidgets": {},
     "nuid": "8a189882-c3b8-4249-891d-5a102c9eb62a",
     "showTitle": false,
     "tableResultSettingsMap": {},
     "title": ""
    }
   },
   "outputs": [],
   "source": [
    "electricity_score = (\n",
    "electricity_test\n",
    " .assign(predictions = model.predict(future)[\"yhat\"])\n",
    " .set_index(\"ds\")\n",
    " .loc[:,[\"y\", \"predictions\"]]\n",
    ")\n",
    "\n",
    "electricity_score.plot()\n",
    "\n",
    "sns.despine()"
   ]
  },
  {
   "cell_type": "code",
   "execution_count": 0,
   "metadata": {
    "application/vnd.databricks.v1+cell": {
     "cellMetadata": {},
     "inputWidgets": {},
     "nuid": "203b1462-5b8d-49b4-993e-efa0b000aad1",
     "showTitle": false,
     "tableResultSettingsMap": {},
     "title": ""
    }
   },
   "outputs": [],
   "source": [
    "print(f\"MAE: {mae(electricity_score['y'], electricity_score['predictions'])}\")\n",
    "print(f\"MAPE: {mape(electricity_score['y'], electricity_score['predictions'])}\")"
   ]
  },
  {
   "cell_type": "code",
   "execution_count": 0,
   "metadata": {
    "application/vnd.databricks.v1+cell": {
     "cellMetadata": {},
     "inputWidgets": {},
     "nuid": "313d35f4-ad8d-46b2-9b26-0b0db1e2d8ff",
     "showTitle": false,
     "tableResultSettingsMap": {},
     "title": ""
    }
   },
   "outputs": [],
   "source": []
  }
 ],
 "metadata": {
  "application/vnd.databricks.v1+notebook": {
   "computePreferences": null,
   "dashboards": [],
   "environmentMetadata": null,
   "inputWidgetPreferences": null,
   "language": "python",
   "notebookMetadata": {},
   "notebookName": "11_time_series_project_solutions",
   "widgets": {}
  },
  "kernelspec": {
   "display_name": "Python 3 (ipykernel)",
   "language": "python",
   "name": "python3"
  },
  "language_info": {
   "name": "python"
  }
 },
 "nbformat": 4,
 "nbformat_minor": 0
}
