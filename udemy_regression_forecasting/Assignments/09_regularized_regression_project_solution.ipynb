{
 "cells": [
  {
   "cell_type": "markdown",
   "metadata": {
    "application/vnd.databricks.v1+cell": {
     "cellMetadata": {},
     "inputWidgets": {},
     "nuid": "2f1995cf-0f7d-4742-9b48-3833b0ce52be",
     "showTitle": false,
     "tableResultSettingsMap": {},
     "title": ""
    }
   },
   "source": [
    "## Regularized Regression Project\n",
    "\n",
    "Build a linear regression model that predicts the `price` column in the dataset on San Francisco Apartment rentals. Make sure to go through all the the relevant steps of the modelling workflow.\n",
    "\n",
    "1. Use the model you built for the prior project as the basis for comparison\n",
    "2. Engineer (or un-engineer previously) engineered Features as needed\n",
    "3. Fit a Lasso, Ridge, and Elastic Net Regression using the features in your original model.\n",
    "4. Once you are ready, fit your final model and report final model performance estimate by scoring on the test data. Report both test R-squared and MAE.\n",
    "5. What happens to your error if you only model apartments <= 6000 in price... should we do this?\n",
    "\n",
    "Advice:\n",
    "\n",
    "1. Remember, regularization doesn't always help!"
   ]
  },
  {
   "cell_type": "code",
   "execution_count": 0,
   "metadata": {
    "application/vnd.databricks.v1+cell": {
     "cellMetadata": {},
     "inputWidgets": {},
     "nuid": "cf34268c-1ac1-4251-bfc9-d10db67fa3fa",
     "showTitle": false,
     "tableResultSettingsMap": {},
     "title": ""
    }
   },
   "outputs": [],
   "source": [
    "import pandas as pd\n",
    "import numpy as np\n",
    "import matplotlib.pyplot as plt\n",
    "import seaborn as sns\n",
    "\n",
    "import statsmodels.api as sm\n",
    "from sklearn.model_selection import KFold\n",
    "from sklearn.metrics import r2_score as r2, mean_absolute_error as mae, mean_squared_error as mse\n",
    "\n",
    "rentals_df = pd.read_csv(\"../Data/sf_clean.csv\")\n",
    "\n",
    "rentals_df.head()"
   ]
  },
  {
   "cell_type": "markdown",
   "metadata": {
    "application/vnd.databricks.v1+cell": {
     "cellMetadata": {},
     "inputWidgets": {},
     "nuid": "b5102432-b590-4e49-abce-bfda5594e3fb",
     "showTitle": false,
     "tableResultSettingsMap": {},
     "title": ""
    }
   },
   "source": [
    "### Data Dictionary\n",
    "\n",
    "1. Price: The price of the rental and our target variable\n",
    "2. sqft: The area in square feet of the rental\n",
    "3. beds: The number of bedrooms in the rental\n",
    "4. bath: The number of bathrooms in the rental\n",
    "5. laundry: Does the rental have a laundry machine inside the house, a shared laundry machine, or no laundry on site?\n",
    "6. pets: Does the rental allow pets? Cats only, dogs only or both cats and dogs?\n",
    "7. Housing type: Is the rental in a multi-unit building, a building with two units, or a stand alone house? \n",
    "8. Parking: Does the apartment off a parking space? No, protected in a garage, off-street in a parking lot, or valet service?\n",
    "9. Hood district: Which part of San Francisco is the apartment located?\n",
    "\n",
    "![image info](SFAR_map.png)"
   ]
  },
  {
   "cell_type": "code",
   "execution_count": 0,
   "metadata": {
    "application/vnd.databricks.v1+cell": {
     "cellMetadata": {},
     "inputWidgets": {},
     "nuid": "6a669107-64fe-4875-9a47-aa167d8b8dcd",
     "showTitle": false,
     "tableResultSettingsMap": {},
     "title": ""
    }
   },
   "outputs": [],
   "source": [
    "rentals_df.info()"
   ]
  },
  {
   "cell_type": "markdown",
   "metadata": {
    "application/vnd.databricks.v1+cell": {
     "cellMetadata": {},
     "inputWidgets": {},
     "nuid": "b2664551-295d-4c3b-8586-d4c6c98ea6a5",
     "showTitle": false,
     "tableResultSettingsMap": {},
     "title": ""
    }
   },
   "source": [
    "## EDA\n",
    "\n",
    "1. Based on the range of prices below, we may need to subset our data based on some value to predict more \"realistic\" apartments. Possibly subset based on square-footage.\n",
    "\n",
    "2. The 'hood_district' feature was read in as an integer but is really a categorical feature. Let's fix that.\n"
   ]
  },
  {
   "cell_type": "code",
   "execution_count": 0,
   "metadata": {
    "application/vnd.databricks.v1+cell": {
     "cellMetadata": {},
     "inputWidgets": {},
     "nuid": "116f2879-9e42-476d-a8c7-bdd497bdad13",
     "showTitle": false,
     "tableResultSettingsMap": {},
     "title": ""
    }
   },
   "outputs": [],
   "source": [
    "rentals_df[\"hood_district\"] = rentals_df[\"hood_district\"].astype(\"object\") "
   ]
  },
  {
   "cell_type": "code",
   "execution_count": 0,
   "metadata": {
    "application/vnd.databricks.v1+cell": {
     "cellMetadata": {},
     "inputWidgets": {},
     "nuid": "7b319df7-061e-4625-ba87-cab471a7e626",
     "showTitle": false,
     "tableResultSettingsMap": {},
     "title": ""
    }
   },
   "outputs": [],
   "source": [
    "rentals_df.describe()"
   ]
  },
  {
   "cell_type": "markdown",
   "metadata": {
    "application/vnd.databricks.v1+cell": {
     "cellMetadata": {},
     "inputWidgets": {},
     "nuid": "d95c2fbc-3b21-43b7-99e1-677faa89a880",
     "showTitle": false,
     "tableResultSettingsMap": {},
     "title": ""
    }
   },
   "source": [
    "There are some very rare, expensive apartments that cost over 10k."
   ]
  },
  {
   "cell_type": "code",
   "execution_count": 0,
   "metadata": {
    "application/vnd.databricks.v1+cell": {
     "cellMetadata": {},
     "inputWidgets": {},
     "nuid": "c3fa02a0-b869-441c-a53b-708ebb0f7050",
     "showTitle": false,
     "tableResultSettingsMap": {},
     "title": ""
    }
   },
   "outputs": [],
   "source": [
    "sns.histplot(rentals_df, x=\"price\")"
   ]
  },
  {
   "cell_type": "markdown",
   "metadata": {
    "application/vnd.databricks.v1+cell": {
     "cellMetadata": {},
     "inputWidgets": {},
     "nuid": "0f6a183d-a84f-49be-a417-1a22ff07bb5d",
     "showTitle": false,
     "tableResultSettingsMap": {},
     "title": ""
    }
   },
   "source": [
    "Most of our numeric features are positively correlated with each other, could cause problems.\n",
    "\n",
    "It's good to see that we have some strong correlations with our target here though."
   ]
  },
  {
   "cell_type": "code",
   "execution_count": 0,
   "metadata": {
    "application/vnd.databricks.v1+cell": {
     "cellMetadata": {},
     "inputWidgets": {},
     "nuid": "1fe46e17-10ff-47f3-9dff-44496a2fe36a",
     "showTitle": false,
     "tableResultSettingsMap": {},
     "title": ""
    }
   },
   "outputs": [],
   "source": [
    "# sns.heatmap(\n",
    "#     rentals_df.corr(numeric_only=True), \n",
    "#     vmin=-1, \n",
    "#     vmax=1, \n",
    "#     cmap=\"coolwarm\",\n",
    "#     annot=True\n",
    "# );"
   ]
  },
  {
   "cell_type": "markdown",
   "metadata": {
    "application/vnd.databricks.v1+cell": {
     "cellMetadata": {},
     "inputWidgets": {},
     "nuid": "d97d9aef-385c-4c32-b2d5-494cdac34344",
     "showTitle": false,
     "tableResultSettingsMap": {},
     "title": ""
    }
   },
   "source": [
    "Based on the pairplot below, we may be able to slice off the most expensive aparments by subsetting to only aparments <2500 sqft. "
   ]
  },
  {
   "cell_type": "code",
   "execution_count": 0,
   "metadata": {
    "application/vnd.databricks.v1+cell": {
     "cellMetadata": {},
     "inputWidgets": {},
     "nuid": "69775793-5ebd-45c6-99d3-ee56a94c271e",
     "showTitle": false,
     "tableResultSettingsMap": {},
     "title": ""
    }
   },
   "outputs": [],
   "source": [
    "# sns.pairplot(rentals_df, corner=True)"
   ]
  },
  {
   "cell_type": "markdown",
   "metadata": {
    "application/vnd.databricks.v1+cell": {
     "cellMetadata": {},
     "inputWidgets": {},
     "nuid": "06683d74-0392-4dc4-ae06-415a4db26c37",
     "showTitle": false,
     "tableResultSettingsMap": {},
     "title": ""
    }
   },
   "source": [
    "Moving on to our categorical features, we have some rare categories that may need to be binned together.\n",
    "\n",
    "We should consider:\n",
    "\n",
    "1. Pets: Bin 'dogs', and 'both' into a 'dogs' 'allows_dogs' category.\n",
    "2. Housing_type: Group 'multi' and 'double' together\n",
    "3. Parking: Group 'protected', 'off-street', and 'valet' together\n",
    "4. We should bin some of our lower count neighbhoords with neighboring ones. Let's look at average pricing for each and see which are related based on price."
   ]
  },
  {
   "cell_type": "code",
   "execution_count": 0,
   "metadata": {
    "application/vnd.databricks.v1+cell": {
     "cellMetadata": {},
     "inputWidgets": {},
     "nuid": "83969547-d035-4c88-a29f-f17570392633",
     "showTitle": false,
     "tableResultSettingsMap": {},
     "title": ""
    }
   },
   "outputs": [],
   "source": [
    "# # Let's check the frequency of our categorical features\n",
    "\n",
    "# def value_counter(dataframe):\n",
    "#     value_series = pd.DataFrame()\n",
    "#     for col in dataframe.select_dtypes([\"object\"]).columns:\n",
    "#         print(dataframe[col].value_counts())\n",
    "        \n",
    "        \n",
    "# value_counter(rentals_df)"
   ]
  },
  {
   "cell_type": "code",
   "execution_count": 0,
   "metadata": {
    "application/vnd.databricks.v1+cell": {
     "cellMetadata": {},
     "inputWidgets": {},
     "nuid": "d3860e47-e78a-4e30-aa1c-d43f19b1e6ef",
     "showTitle": false,
     "tableResultSettingsMap": {},
     "title": ""
    },
    "scrolled": false
   },
   "outputs": [],
   "source": [
    "# def cat_plotter(data, target):\n",
    "#     for col in data.select_dtypes([\"object\"]).columns:\n",
    "#         sns.barplot(data=data, x=col, y=target)\n",
    "#         plt.xticks(rotation=45)\n",
    "#         plt.show()\n",
    "        \n",
    "# cat_plotter(rentals_df, \"price\")"
   ]
  },
  {
   "cell_type": "markdown",
   "metadata": {
    "application/vnd.databricks.v1+cell": {
     "cellMetadata": {},
     "inputWidgets": {},
     "nuid": "adde2048-0aca-4616-818c-dde3633a483f",
     "showTitle": false,
     "tableResultSettingsMap": {},
     "title": ""
    }
   },
   "source": [
    "# Feature Engineering\n",
    "\n",
    "1. Group Categories together\n",
    "2. Trying a Squared Term for Bedrooms, sqft, and bath"
   ]
  },
  {
   "cell_type": "code",
   "execution_count": 0,
   "metadata": {
    "application/vnd.databricks.v1+cell": {
     "cellMetadata": {},
     "inputWidgets": {},
     "nuid": "60c1ed3a-6fe1-4265-bd9d-e125535b73c1",
     "showTitle": false,
     "tableResultSettingsMap": {},
     "title": ""
    }
   },
   "outputs": [],
   "source": [
    "laundry_map = {\n",
    "    \"(a) in-unit\": \"in_unit\",\n",
    "    \"(b) on-site\": \"not_in_unit\",\n",
    "    \"(c) no laundry\": \"not_in_unit\",\n",
    "}\n",
    "\n",
    "pet_map = {\n",
    "    \"(a) both\": \"allows_dogs\",\n",
    "    \"(b) dogs\": \"allows_dogs\",\n",
    "    \"(c) cats\": \"no_dogs\",\n",
    "    \"(d) no pets\": \"no_dogs\"\n",
    "}\n",
    "\n",
    "\n",
    "housing_type_map = {\n",
    "    \"(a) single\": \"single\",\n",
    "    \"(b) double\": \"multi\",\n",
    "    \"(c) multi\": \"multi\",\n",
    "}\n",
    "\n",
    "district_map = {\n",
    "    1.0: \"west\",\n",
    "    2.0: \"southwest\",\n",
    "    3.0: \"southwest\",\n",
    "    4.0: \"central\",\n",
    "    5.0: \"central\",\n",
    "    6.0: \"central\",\n",
    "    7.0: \"marina\",\n",
    "    8.0: \"north beach\",\n",
    "    9.0: \"FiDi/SOMA\",\n",
    "    10.0: \"southwest\"\n",
    "    \n",
    "}"
   ]
  },
  {
   "cell_type": "code",
   "execution_count": 0,
   "metadata": {
    "application/vnd.databricks.v1+cell": {
     "cellMetadata": {},
     "inputWidgets": {},
     "nuid": "6c9426c8-2c76-4b7e-83dc-f46ebaa86c81",
     "showTitle": false,
     "tableResultSettingsMap": {},
     "title": ""
    }
   },
   "outputs": [],
   "source": [
    "eng_df = rentals_df.assign(\n",
    "#     hood_district = rentals_df[\"hood_district\"].map(district_map),\n",
    "#     housing_type = rentals_df[\"housing_type\"].map(housing_type_map),\n",
    "#     pets = rentals_df[\"pets\"].map(pet_map),\n",
    "#     laundry = rentals_df[\"laundry\"].map(laundry_map),\n",
    "    sqft2 = rentals_df[\"sqft\"] ** 2,\n",
    "    sqft3 = rentals_df[\"sqft\"] ** 3,\n",
    "    beds2 = rentals_df[\"beds\"] ** 2,\n",
    "    beds3 = rentals_df[\"beds\"] ** 3,\n",
    "    bath2 = rentals_df[\"bath\"] ** 2,\n",
    "    bath3 = rentals_df[\"bath\"] ** 3,\n",
    "    beds_bath_ratio = rentals_df[\"beds\"] / rentals_df[\"bath\"]\n",
    ")\n",
    "\n",
    "eng_df = pd.get_dummies(eng_df, drop_first=True)"
   ]
  },
  {
   "cell_type": "code",
   "execution_count": 0,
   "metadata": {
    "application/vnd.databricks.v1+cell": {
     "cellMetadata": {},
     "inputWidgets": {},
     "nuid": "205ab413-33a8-4c69-be76-fde5c006fc08",
     "showTitle": false,
     "tableResultSettingsMap": {},
     "title": ""
    }
   },
   "outputs": [],
   "source": [
    "eng_df.head()"
   ]
  },
  {
   "cell_type": "code",
   "execution_count": 0,
   "metadata": {
    "application/vnd.databricks.v1+cell": {
     "cellMetadata": {},
     "inputWidgets": {},
     "nuid": "22f8246e-820c-4c11-94b0-c65da024d7b5",
     "showTitle": false,
     "tableResultSettingsMap": {},
     "title": ""
    }
   },
   "outputs": [],
   "source": [
    "from sklearn.model_selection import train_test_split\n",
    "\n",
    "target = \"price\"\n",
    "drop_cols = [\n",
    "#     \"pets_no_dogs\",\n",
    "#     \"housing_type_single\"\n",
    "]\n",
    "\n",
    "X = sm.add_constant(eng_df.drop([target] + drop_cols, axis=1))\n",
    "\n",
    "# Log transform slightly improves normality\n",
    "y = np.log(eng_df[target])\n",
    "# y = eng_df[target]\n",
    "\n",
    "# Test Split\n",
    "X, X_test, y, y_test = train_test_split(X, y, test_size=.2, random_state=2023)"
   ]
  },
  {
   "cell_type": "markdown",
   "metadata": {
    "application/vnd.databricks.v1+cell": {
     "cellMetadata": {},
     "inputWidgets": {},
     "nuid": "95010205-f465-4d45-8f3b-6641fbe13e4f",
     "showTitle": false,
     "tableResultSettingsMap": {},
     "title": ""
    }
   },
   "source": [
    "# Scaling Data"
   ]
  },
  {
   "cell_type": "code",
   "execution_count": 0,
   "metadata": {
    "application/vnd.databricks.v1+cell": {
     "cellMetadata": {},
     "inputWidgets": {},
     "nuid": "28045c9a-513c-4b3a-8891-db8cb2dd412c",
     "showTitle": false,
     "tableResultSettingsMap": {},
     "title": ""
    }
   },
   "outputs": [],
   "source": [
    "from sklearn.preprocessing import StandardScaler\n",
    "\n",
    "std = StandardScaler()\n",
    "X_tr = std.fit_transform(X.values)\n",
    "X_te = std.transform(X_test.values)"
   ]
  },
  {
   "cell_type": "code",
   "execution_count": 0,
   "metadata": {
    "application/vnd.databricks.v1+cell": {
     "cellMetadata": {},
     "inputWidgets": {},
     "nuid": "690bf01c-40a2-41d4-aaaf-3eeae5ed9602",
     "showTitle": false,
     "tableResultSettingsMap": {},
     "title": ""
    },
    "scrolled": false
   },
   "outputs": [],
   "source": [
    "from sklearn.linear_model import RidgeCV\n",
    "\n",
    "n_alphas = 100\n",
    "alphas = 10 ** np.linspace(-3, 3, n_alphas)\n",
    "\n",
    "ridge_model = RidgeCV(alphas=alphas, cv=5)\n",
    "\n",
    "ridge_model.fit(X_tr, y)\n",
    "print(f\"Cross Val R2: {ridge_model.score(X_tr, y)}\")\n",
    "print(f\"Cross Val MAE: {mae(np.exp(y), np.exp(ridge_model.predict(X_tr)))}\")\n",
    "print(f\"Alpha: {ridge_model.alpha_}\")"
   ]
  },
  {
   "cell_type": "code",
   "execution_count": 0,
   "metadata": {
    "application/vnd.databricks.v1+cell": {
     "cellMetadata": {},
     "inputWidgets": {},
     "nuid": "d1a7a5ac-b828-4d9a-8831-575b7acc4b7d",
     "showTitle": false,
     "tableResultSettingsMap": {},
     "title": ""
    }
   },
   "outputs": [],
   "source": [
    "list(zip(X.columns, ridge_model.coef_))"
   ]
  },
  {
   "cell_type": "markdown",
   "metadata": {
    "application/vnd.databricks.v1+cell": {
     "cellMetadata": {},
     "inputWidgets": {},
     "nuid": "2cfece24-a856-49e6-9145-622fde112dca",
     "showTitle": false,
     "tableResultSettingsMap": {},
     "title": ""
    }
   },
   "source": [
    "# Lasso"
   ]
  },
  {
   "cell_type": "code",
   "execution_count": 0,
   "metadata": {
    "application/vnd.databricks.v1+cell": {
     "cellMetadata": {},
     "inputWidgets": {},
     "nuid": "ce3f85c4-5353-4ee1-a7c2-bf2bda28ba0d",
     "showTitle": false,
     "tableResultSettingsMap": {},
     "title": ""
    },
    "scrolled": false
   },
   "outputs": [],
   "source": [
    "from sklearn.linear_model import LassoCV\n",
    "\n",
    "n_alphas = 200\n",
    "alphas = 10 ** np.linspace(-2, 3, n_alphas)\n",
    "\n",
    "lasso_model = LassoCV(alphas=alphas, cv=5)\n",
    "\n",
    "lasso_model.fit(X_tr, y)\n",
    "\n",
    "print(f\"Cross Val R2: {lasso_model.score(X_tr, y)}\")\n",
    "print(f\"Cross Val MAE: {mae(np.exp(y), np.exp(lasso_model.predict(X_tr)))}\")\n",
    "print(f\"Alpha: {lasso_model.alpha_}\")"
   ]
  },
  {
   "cell_type": "code",
   "execution_count": 0,
   "metadata": {
    "application/vnd.databricks.v1+cell": {
     "cellMetadata": {},
     "inputWidgets": {},
     "nuid": "db1dd6ac-5f5b-4cf7-866e-2ef9cd46d25e",
     "showTitle": false,
     "tableResultSettingsMap": {},
     "title": ""
    }
   },
   "outputs": [],
   "source": [
    "list(zip(X.columns, lasso_model.coef_))"
   ]
  },
  {
   "cell_type": "code",
   "execution_count": 0,
   "metadata": {
    "application/vnd.databricks.v1+cell": {
     "cellMetadata": {},
     "inputWidgets": {},
     "nuid": "4f00e36e-218c-41dd-855d-f272713d4860",
     "showTitle": false,
     "tableResultSettingsMap": {},
     "title": ""
    }
   },
   "outputs": [],
   "source": [
    "# print(mae(np.exp(y_test), np.exp(lasso_model.predict(X_te))))\n",
    "# print(f\"Test R2: {r2(y_test, lasso_model.predict(X_te))}\")"
   ]
  },
  {
   "cell_type": "markdown",
   "metadata": {
    "application/vnd.databricks.v1+cell": {
     "cellMetadata": {},
     "inputWidgets": {},
     "nuid": "0b27438a-870e-4c66-801c-65f182a01928",
     "showTitle": false,
     "tableResultSettingsMap": {},
     "title": ""
    }
   },
   "source": [
    "## ENET"
   ]
  },
  {
   "cell_type": "code",
   "execution_count": 0,
   "metadata": {
    "application/vnd.databricks.v1+cell": {
     "cellMetadata": {},
     "inputWidgets": {},
     "nuid": "7f1a7d18-c524-4e79-9584-0856f3cec9fb",
     "showTitle": false,
     "tableResultSettingsMap": {},
     "title": ""
    },
    "scrolled": false
   },
   "outputs": [],
   "source": [
    "from sklearn.linear_model import ElasticNetCV\n",
    "\n",
    "alphas = 10 ** np.linspace(-2, 3, 200)\n",
    "l1_ratios = np.linspace(.01, 1, 100)\n",
    "\n",
    "enet_model = ElasticNetCV(alphas=alphas, l1_ratio=l1_ratios, cv=5)\n",
    "\n",
    "enet_model.fit(X_tr, y)\n",
    "\n",
    "print(f\"Cross Val R2: {enet_model.score(X_tr, y)}\")\n",
    "print(f\"Cross Val MAE: {mae(np.exp(y), np.exp(enet_model.predict(X_tr)))}\")\n",
    "print(f\"Alpha: {enet_model.alpha_}\")\n",
    "print(f\"L1_Ratio: {enet_model.l1_ratio_}\")"
   ]
  },
  {
   "cell_type": "markdown",
   "metadata": {
    "application/vnd.databricks.v1+cell": {
     "cellMetadata": {},
     "inputWidgets": {},
     "nuid": "a3a998e7-8c5b-4537-991d-b0814719fb6f",
     "showTitle": false,
     "tableResultSettingsMap": {},
     "title": ""
    }
   },
   "source": [
    "# Final Model Test"
   ]
  },
  {
   "cell_type": "code",
   "execution_count": 0,
   "metadata": {
    "application/vnd.databricks.v1+cell": {
     "cellMetadata": {},
     "inputWidgets": {},
     "nuid": "f00c3f57-7f9c-4f7b-93d4-e9c984d767e6",
     "showTitle": false,
     "tableResultSettingsMap": {},
     "title": ""
    }
   },
   "outputs": [],
   "source": [
    "print(f\"Test MAE: {mae(np.exp(y_test), np.exp(ridge_model.predict(X_te)))}\")\n",
    "print(f\"Test R2: {r2(y_test, ridge_model.predict(X_te))}\")"
   ]
  },
  {
   "cell_type": "code",
   "execution_count": 0,
   "metadata": {
    "application/vnd.databricks.v1+cell": {
     "cellMetadata": {},
     "inputWidgets": {},
     "nuid": "d246f2d4-7cb6-463b-8190-fe6dbac7ae05",
     "showTitle": false,
     "tableResultSettingsMap": {},
     "title": ""
    }
   },
   "outputs": [],
   "source": []
  }
 ],
 "metadata": {
  "application/vnd.databricks.v1+notebook": {
   "computePreferences": null,
   "dashboards": [],
   "environmentMetadata": null,
   "inputWidgetPreferences": null,
   "language": "python",
   "notebookMetadata": {},
   "notebookName": "09_regularized_regression_project_solution",
   "widgets": {}
  },
  "kernelspec": {
   "display_name": "Python 3 (ipykernel)",
   "language": "python",
   "name": "python3"
  },
  "language_info": {
   "name": "python"
  }
 },
 "nbformat": 4,
 "nbformat_minor": 0
}
