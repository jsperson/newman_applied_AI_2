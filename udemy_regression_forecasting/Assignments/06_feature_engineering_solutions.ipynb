{
 "cells": [
  {
   "cell_type": "markdown",
   "metadata": {
    "application/vnd.databricks.v1+cell": {
     "cellMetadata": {},
     "inputWidgets": {},
     "nuid": "da475887-9619-4195-82bb-e7255dceb32a",
     "showTitle": false,
     "tableResultSettingsMap": {},
     "title": ""
    }
   },
   "source": [
    "### Assignment: Feature Engineering\n",
    "\n",
    "Create the following features and determine if they improve model accuracy. \n",
    "\n",
    "1. Create 2nd and 3rd order polynomial columns for 'hd'\n",
    "2. Then, try combining the 'cd' and 'multi' features: If 'cd' AND 'multi' both equal \"yes\" then 1, else 0.\n",
    "3. Finally, bin ram values into '<=4', '8', and '16+' - does this improve model fit?\n",
    "4. Create Dummy Variables for any categorical columns\n",
    "\n",
    "Remove any features that don't improve model accuracy and score your final model on the test dataset."
   ]
  },
  {
   "cell_type": "code",
   "execution_count": 0,
   "metadata": {
    "application/vnd.databricks.v1+cell": {
     "cellMetadata": {},
     "inputWidgets": {},
     "nuid": "c764923d-717f-4337-b405-c0df17d02287",
     "showTitle": false,
     "tableResultSettingsMap": {},
     "title": ""
    },
    "scrolled": false
   },
   "outputs": [],
   "source": [
    "import pandas as pd\n",
    "import seaborn as sns\n",
    "import statsmodels.api as sm\n",
    "import numpy as np\n",
    "\n",
    "computers = pd.read_csv(\"../Data/Computers.csv\")\n",
    "\n",
    "computers.tail()"
   ]
  },
  {
   "cell_type": "markdown",
   "metadata": {
    "application/vnd.databricks.v1+cell": {
     "cellMetadata": {},
     "inputWidgets": {},
     "nuid": "50b77e18-1b17-4ebc-a8b5-58cc4111c2a8",
     "showTitle": false,
     "tableResultSettingsMap": {},
     "title": ""
    }
   },
   "source": [
    "### Feature Engineering"
   ]
  },
  {
   "cell_type": "code",
   "execution_count": 0,
   "metadata": {
    "application/vnd.databricks.v1+cell": {
     "cellMetadata": {},
     "inputWidgets": {},
     "nuid": "ddd7766e-9a2a-48d4-97be-e3aeee299bc4",
     "showTitle": false,
     "tableResultSettingsMap": {},
     "title": ""
    }
   },
   "outputs": [],
   "source": [
    "ram_dict = {\n",
    "    2: \"<=4\",\n",
    "    4: \"<=4\",\n",
    "    8: \"8\",\n",
    "    16: \"16+\",\n",
    "    24: \"16+\",\n",
    "    32: \"16+\"    \n",
    "}\n",
    "\n",
    "computers_eng = (\n",
    "    pd.get_dummies(\n",
    "        computers.assign(\n",
    "            hd2 = computers[\"hd\"] ** 2,\n",
    "            hd3 = computers[\"hd\"] ** 3,\n",
    "#             ports = np.where((computers[\"cd\"] == \"yes\") & (computers[\"multi\"] == \"yes\"), 1, 0), \n",
    "#             ram_categories = computers[\"ram\"].map(ram_dict),\n",
    "        ),\n",
    "    drop_first=True    \n",
    "    )\n",
    ")\n",
    "\n",
    "computers_eng.head()"
   ]
  },
  {
   "cell_type": "markdown",
   "metadata": {
    "application/vnd.databricks.v1+cell": {
     "cellMetadata": {},
     "inputWidgets": {},
     "nuid": "21e8f66e-7b9c-4c14-bdee-8872f317029b",
     "showTitle": false,
     "tableResultSettingsMap": {},
     "title": ""
    }
   },
   "source": [
    "### Data Splitting"
   ]
  },
  {
   "cell_type": "code",
   "execution_count": 0,
   "metadata": {
    "application/vnd.databricks.v1+cell": {
     "cellMetadata": {},
     "inputWidgets": {},
     "nuid": "9b16aa29-a7f0-4db5-acaa-b507d2bbe967",
     "showTitle": false,
     "tableResultSettingsMap": {},
     "title": ""
    }
   },
   "outputs": [],
   "source": [
    "from sklearn.model_selection import train_test_split\n",
    "\n",
    "\n",
    "features = [\"speed\", \"hd\", \"ram\", \"screen\", \"ads\", \"trend\"]\n",
    "\n",
    "X = sm.add_constant(computers_eng.drop(\"price\", axis=1))\n",
    "# X = sm.add_constant(computers[features])\n",
    "y = np.log(computers[\"price\"])\n",
    "\n",
    "# Test Split\n",
    "X, X_test, y, y_test = train_test_split(X, y, test_size=.2, random_state=12345)"
   ]
  },
  {
   "cell_type": "markdown",
   "metadata": {
    "application/vnd.databricks.v1+cell": {
     "cellMetadata": {},
     "inputWidgets": {},
     "nuid": "7dd5de50-fdd2-46d2-9550-47cef24df475",
     "showTitle": false,
     "tableResultSettingsMap": {},
     "title": ""
    }
   },
   "source": [
    "### Cross-Validation"
   ]
  },
  {
   "cell_type": "code",
   "execution_count": 0,
   "metadata": {
    "application/vnd.databricks.v1+cell": {
     "cellMetadata": {},
     "inputWidgets": {},
     "nuid": "1116b693-664d-4cd9-8da2-56371709232b",
     "showTitle": false,
     "tableResultSettingsMap": {},
     "title": ""
    },
    "scrolled": true
   },
   "outputs": [],
   "source": [
    "from sklearn.model_selection import KFold\n",
    "from sklearn.metrics import r2_score as r2\n",
    "from sklearn.metrics import mean_absolute_error as mae\n",
    "\n",
    "\n",
    "\n",
    "kf = KFold(n_splits=5, shuffle=True, random_state=2023)\n",
    "\n",
    "# Create a list to store validation scores for each fold\n",
    "cv_lm_r2s = []\n",
    "cv_lm_mae = []\n",
    "\n",
    "# Loop through each fold in X and y\n",
    "for train_ind, val_ind in kf.split(X, y):\n",
    "    # Subset data based on CV folds\n",
    "    X_train, y_train = X.iloc[train_ind], y.iloc[train_ind]\n",
    "    X_val, y_val = X.iloc[val_ind], y.iloc[val_ind]\n",
    "    # Fit the Model on fold's training data\n",
    "    model = sm.OLS(y_train, X_train).fit()\n",
    "    # Append Validation score to list \n",
    "    cv_lm_r2s.append(r2(y_val, model.predict(X_val),))\n",
    "    cv_lm_mae.append(mae(y_val, model.predict(X_val),))\n",
    "\n",
    "print(\"All Validation R2s: \", [round(x, 3) for x in cv_lm_r2s])\n",
    "print(f\"Cross Val R2s: {round(np.mean(cv_lm_r2s), 3)} +- {round(np.std(cv_lm_r2s), 3)}\")\n",
    "\n",
    "print(\"All Validation MAEs: \", [round(x, 3) for x in cv_lm_mae])\n",
    "print(f\"Cross Val MAEs: {round(np.mean(cv_lm_mae), 3)} +- {round(np.std(cv_lm_mae), 3)}\")"
   ]
  },
  {
   "cell_type": "code",
   "execution_count": 0,
   "metadata": {
    "application/vnd.databricks.v1+cell": {
     "cellMetadata": {},
     "inputWidgets": {},
     "nuid": "ba1c9836-8de5-4071-98f9-2cd3c4063143",
     "showTitle": false,
     "tableResultSettingsMap": {},
     "title": ""
    }
   },
   "outputs": [],
   "source": [
    "def residual_analysis_plots(model):\n",
    "    \n",
    "    import scipy.stats as stats\n",
    "    import matplotlib.pyplot as plt\n",
    "    \n",
    "    predictions = model.predict()\n",
    "    residuals = model.resid\n",
    "    \n",
    "    fig, ax = plt.subplots(1, 2, sharey=\"all\", figsize=(10, 6))\n",
    "    \n",
    "    sns.scatterplot(x=predictions, y=residuals, ax=ax[0], alpha=.3)\n",
    "    ax[0].set_title(\"Residual Plot\")\n",
    "    ax[0].set_xlabel(\"Prediction\")\n",
    "    ax[0].set_ylabel(\"Residuals\")\n",
    "    \n",
    "    stats.probplot(residuals, dist=\"norm\", plot=ax[1])\n",
    "    ax[1].set_title(\"Normal Q-Q Plot\")   \n"
   ]
  },
  {
   "cell_type": "code",
   "execution_count": 0,
   "metadata": {
    "application/vnd.databricks.v1+cell": {
     "cellMetadata": {},
     "inputWidgets": {},
     "nuid": "3937b9b0-a1ed-4185-b8bd-35e378e13273",
     "showTitle": false,
     "tableResultSettingsMap": {},
     "title": ""
    }
   },
   "outputs": [],
   "source": [
    "residual_analysis_plots(model)"
   ]
  },
  {
   "cell_type": "markdown",
   "metadata": {
    "application/vnd.databricks.v1+cell": {
     "cellMetadata": {},
     "inputWidgets": {},
     "nuid": "52e97688-4e50-4757-b78e-572f000aeb74",
     "showTitle": false,
     "tableResultSettingsMap": {},
     "title": ""
    }
   },
   "source": [
    "### Fit On All Training Data"
   ]
  },
  {
   "cell_type": "code",
   "execution_count": 0,
   "metadata": {
    "application/vnd.databricks.v1+cell": {
     "cellMetadata": {},
     "inputWidgets": {},
     "nuid": "5c3d1161-5a5a-4bf3-9621-95399eac0b48",
     "showTitle": false,
     "tableResultSettingsMap": {},
     "title": ""
    }
   },
   "outputs": [],
   "source": [
    "model = sm.OLS(y, X).fit()\n",
    "\n",
    "model.summary()"
   ]
  },
  {
   "cell_type": "markdown",
   "metadata": {
    "application/vnd.databricks.v1+cell": {
     "cellMetadata": {},
     "inputWidgets": {},
     "nuid": "12846c25-5f20-4d93-911a-627aa1959325",
     "showTitle": false,
     "tableResultSettingsMap": {},
     "title": ""
    }
   },
   "source": [
    "### Test Performance"
   ]
  },
  {
   "cell_type": "code",
   "execution_count": 0,
   "metadata": {
    "application/vnd.databricks.v1+cell": {
     "cellMetadata": {},
     "inputWidgets": {},
     "nuid": "41ec5a1b-ca23-4369-8d41-04639a766d6e",
     "showTitle": false,
     "tableResultSettingsMap": {},
     "title": ""
    }
   },
   "outputs": [],
   "source": [
    "from sklearn.metrics import r2_score as r2\n",
    "from sklearn.metrics import mean_absolute_error as mae\n",
    "\n",
    "print(f\"Test R2: {r2(y_test, model.predict(X_test))}\")\n",
    "print(f\"Test MAE: {mae(y_test, model.predict(X_test))}\")"
   ]
  }
 ],
 "metadata": {
  "application/vnd.databricks.v1+notebook": {
   "computePreferences": null,
   "dashboards": [],
   "environmentMetadata": null,
   "inputWidgetPreferences": null,
   "language": "python",
   "notebookMetadata": {},
   "notebookName": "06_feature_engineering_solutions",
   "widgets": {}
  },
  "kernelspec": {
   "display_name": "Python 3 (ipykernel)",
   "language": "python",
   "name": "python3"
  },
  "language_info": {
   "name": "python"
  }
 },
 "nbformat": 4,
 "nbformat_minor": 0
}
