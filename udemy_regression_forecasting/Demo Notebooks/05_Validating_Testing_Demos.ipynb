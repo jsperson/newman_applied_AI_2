{
 "cells": [
  {
   "cell_type": "code",
   "execution_count": 0,
   "metadata": {
    "application/vnd.databricks.v1+cell": {
     "cellMetadata": {},
     "inputWidgets": {},
     "nuid": "bcd6dddd-7469-4b87-a157-0d0b710c6529",
     "showTitle": false,
     "tableResultSettingsMap": {},
     "title": ""
    }
   },
   "outputs": [],
   "source": [
    "import pandas as pd\n",
    "import numpy as np\n",
    "import seaborn as sns\n",
    "import statsmodels.api as sm\n",
    "\n",
    "insurance_df = pd.read_csv(\"../Data/insurance.csv\")"
   ]
  },
  {
   "cell_type": "code",
   "execution_count": 0,
   "metadata": {
    "application/vnd.databricks.v1+cell": {
     "cellMetadata": {},
     "inputWidgets": {},
     "nuid": "ea833211-b1d5-4cb5-8ba5-f119f98e39ba",
     "showTitle": false,
     "tableResultSettingsMap": {},
     "title": ""
    }
   },
   "outputs": [],
   "source": [
    "insurance_df.head()"
   ]
  },
  {
   "cell_type": "markdown",
   "metadata": {
    "application/vnd.databricks.v1+cell": {
     "cellMetadata": {},
     "inputWidgets": {},
     "nuid": "9b527bfb-7638-45b6-8d30-b230c8db1ee2",
     "showTitle": false,
     "tableResultSettingsMap": {},
     "title": ""
    }
   },
   "source": [
    "### Data Splitting"
   ]
  },
  {
   "cell_type": "code",
   "execution_count": 0,
   "metadata": {
    "application/vnd.databricks.v1+cell": {
     "cellMetadata": {},
     "inputWidgets": {},
     "nuid": "ebcb7eb1-1027-41fd-b711-380787509195",
     "showTitle": false,
     "tableResultSettingsMap": {},
     "title": ""
    }
   },
   "outputs": [],
   "source": [
    "from sklearn.model_selection import train_test_split\n",
    "\n",
    "insurance_df[\"smoker_flag\"] = np.where(insurance_df[\"smoker\"] == \"yes\", 1, 0)\n",
    "\n",
    "features = [\"age\", \"bmi\", \"children\", \"smoker_flag\"]\n",
    "\n",
    "X = sm.add_constant(insurance_df[features])\n",
    "y = insurance_df[\"charges\"]\n",
    "\n",
    "X, X_test, y, y_test = train_test_split(X, y, test_size=.2, random_state=2023)\n",
    "\n",
    "X_train, X_valid, y_train, y_valid = train_test_split(X, y, test_size=.25, random_state=2024)"
   ]
  },
  {
   "cell_type": "markdown",
   "metadata": {
    "application/vnd.databricks.v1+cell": {
     "cellMetadata": {},
     "inputWidgets": {},
     "nuid": "c933c438-f076-4c32-9fe1-9d1f87933415",
     "showTitle": false,
     "tableResultSettingsMap": {},
     "title": ""
    }
   },
   "source": [
    "### Validation Scoring"
   ]
  },
  {
   "cell_type": "code",
   "execution_count": 0,
   "metadata": {
    "application/vnd.databricks.v1+cell": {
     "cellMetadata": {},
     "inputWidgets": {},
     "nuid": "9a8e39aa-8163-4325-abde-fe3556b23e74",
     "showTitle": false,
     "tableResultSettingsMap": {},
     "title": ""
    }
   },
   "outputs": [],
   "source": [
    "model = sm.OLS(y_train, X_train).fit()\n",
    "\n",
    "model.summary()"
   ]
  },
  {
   "cell_type": "code",
   "execution_count": 0,
   "metadata": {
    "application/vnd.databricks.v1+cell": {
     "cellMetadata": {},
     "inputWidgets": {},
     "nuid": "00a7827e-d556-4a40-bda7-dba904b2cb12",
     "showTitle": false,
     "tableResultSettingsMap": {},
     "title": ""
    },
    "scrolled": true
   },
   "outputs": [],
   "source": [
    "from sklearn.metrics import r2_score as r2\n",
    "from sklearn.metrics import mean_absolute_error as mae\n",
    "\n",
    "print(f\"Train R2: {r2(y_train, model.predict(X_train))}\")\n",
    "print(f\"Train MAE: {mae(y_train, model.predict(X_train))}\")\n",
    "print(f\"Validation R2: {r2(y_valid, model.predict(X_valid))}\")\n",
    "print(f\"Validation MAE: {mae(y_valid, model.predict(X_valid))}\")\n"
   ]
  },
  {
   "cell_type": "markdown",
   "metadata": {
    "application/vnd.databricks.v1+cell": {
     "cellMetadata": {},
     "inputWidgets": {},
     "nuid": "6cd4b301-d9f0-4d78-bf83-2a2e72659f38",
     "showTitle": false,
     "tableResultSettingsMap": {},
     "title": ""
    }
   },
   "source": [
    "### Final Fit (on all training data) & Test Score"
   ]
  },
  {
   "cell_type": "code",
   "execution_count": 0,
   "metadata": {
    "application/vnd.databricks.v1+cell": {
     "cellMetadata": {},
     "inputWidgets": {},
     "nuid": "99bf2b13-dfb1-4833-bff7-d21b630f718d",
     "showTitle": false,
     "tableResultSettingsMap": {},
     "title": ""
    }
   },
   "outputs": [],
   "source": [
    "model = sm.OLS(y, X).fit()\n",
    "\n",
    "print(f\"Train R2: {r2(y, model.predict(X))}\")\n",
    "print(f\"Train MAE: {mae(y, model.predict(X))}\")"
   ]
  },
  {
   "cell_type": "code",
   "execution_count": 0,
   "metadata": {
    "application/vnd.databricks.v1+cell": {
     "cellMetadata": {},
     "inputWidgets": {},
     "nuid": "7879d4fb-25fe-4ca2-84c1-bb2215e07524",
     "showTitle": false,
     "tableResultSettingsMap": {},
     "title": ""
    }
   },
   "outputs": [],
   "source": [
    "print(f\"Test R2: {r2(y_test, model.predict(X_test))}\")\n",
    "print(f\"Test MAE: {mae(y_test, model.predict(X_test))}\")"
   ]
  },
  {
   "cell_type": "markdown",
   "metadata": {
    "application/vnd.databricks.v1+cell": {
     "cellMetadata": {},
     "inputWidgets": {},
     "nuid": "9ca3deca-39d3-4b29-8f1e-6158f4c3f136",
     "showTitle": false,
     "tableResultSettingsMap": {},
     "title": ""
    }
   },
   "source": [
    "### Cross Validation Loop"
   ]
  },
  {
   "cell_type": "code",
   "execution_count": 0,
   "metadata": {
    "application/vnd.databricks.v1+cell": {
     "cellMetadata": {},
     "inputWidgets": {},
     "nuid": "9d111f26-5107-4e28-8a24-0233910759b9",
     "showTitle": false,
     "tableResultSettingsMap": {},
     "title": ""
    }
   },
   "outputs": [],
   "source": [
    "from sklearn.model_selection import KFold\n",
    "from sklearn.metrics import r2_score as r2\n",
    "\n",
    "\n",
    "kf = KFold(n_splits=5, shuffle=True, random_state=2023)\n",
    "\n",
    "# Create a list to store validation scores for each fold\n",
    "cv_lm_r2s = []\n",
    "cv_lm_mae = []\n",
    "\n",
    "# Loop through each fold in X and y\n",
    "for train_ind, val_ind in kf.split(X, y):\n",
    "    # Subset data based on CV folds\n",
    "    X_train, y_train = X.iloc[train_ind], y.iloc[train_ind]\n",
    "    X_val, y_val = X.iloc[val_ind], y.iloc[val_ind]\n",
    "    # Fit the Model on fold's training data\n",
    "    model = sm.OLS(y_train, X_train).fit()\n",
    "    # Append Validation score to list \n",
    "    cv_lm_r2s.append(r2(y_val, model.predict(X_val),))\n",
    "    cv_lm_mae.append(mae(y_val, model.predict(X_val),))\n",
    "\n",
    "print(\"All Validation R2s: \", [round(x, 3) for x in cv_lm_r2s])\n",
    "print(f\"Cross Val R2s: {round(np.mean(cv_lm_r2s), 3)} +- {round(np.std(cv_lm_r2s), 3)}\")\n",
    "\n",
    "print(\"All Validation MAEs: \", [round(x, 3) for x in cv_lm_mae])\n",
    "print(f\"Cross Val MAEs: {round(np.mean(cv_lm_mae), 3)} +- {round(np.std(cv_lm_mae), 3)}\")"
   ]
  },
  {
   "cell_type": "markdown",
   "metadata": {
    "application/vnd.databricks.v1+cell": {
     "cellMetadata": {},
     "inputWidgets": {},
     "nuid": "6dfc94d0-9071-401b-aacb-6c3fdedc592b",
     "showTitle": false,
     "tableResultSettingsMap": {},
     "title": ""
    }
   },
   "source": [
    "### Final Fit & Score On Test"
   ]
  },
  {
   "cell_type": "code",
   "execution_count": 0,
   "metadata": {
    "application/vnd.databricks.v1+cell": {
     "cellMetadata": {},
     "inputWidgets": {},
     "nuid": "c93f0cb9-1d06-4b4c-b904-535462e056e6",
     "showTitle": false,
     "tableResultSettingsMap": {},
     "title": ""
    }
   },
   "outputs": [],
   "source": [
    "model = sm.OLS(y, X).fit()\n",
    "\n",
    "r2(y_test, model.predict(X_test))"
   ]
  },
  {
   "cell_type": "code",
   "execution_count": 0,
   "metadata": {
    "application/vnd.databricks.v1+cell": {
     "cellMetadata": {},
     "inputWidgets": {},
     "nuid": "438982b1-e9a3-4237-8338-4fafdaa46192",
     "showTitle": false,
     "tableResultSettingsMap": {},
     "title": ""
    }
   },
   "outputs": [],
   "source": []
  }
 ],
 "metadata": {
  "application/vnd.databricks.v1+notebook": {
   "computePreferences": null,
   "dashboards": [],
   "environmentMetadata": null,
   "inputWidgetPreferences": null,
   "language": "python",
   "notebookMetadata": {},
   "notebookName": "05_Validating_Testing_Demos",
   "widgets": {}
  },
  "kernelspec": {
   "display_name": "Python 3 (ipykernel)",
   "language": "python",
   "name": "python3"
  },
  "language_info": {
   "name": "python"
  }
 },
 "nbformat": 4,
 "nbformat_minor": 0
}
