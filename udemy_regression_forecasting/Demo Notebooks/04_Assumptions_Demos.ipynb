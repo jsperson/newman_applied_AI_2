{
 "cells": [
  {
   "cell_type": "code",
   "execution_count": 0,
   "metadata": {
    "application/vnd.databricks.v1+cell": {
     "cellMetadata": {},
     "inputWidgets": {},
     "nuid": "6eff61f8-f60e-4933-a12c-217c215caeef",
     "showTitle": false,
     "tableResultSettingsMap": {},
     "title": ""
    }
   },
   "outputs": [],
   "source": [
    "import pandas as pd\n",
    "import numpy as np\n",
    "import seaborn as sns\n",
    "import statsmodels.api as sm\n",
    "\n",
    "insurance_df = pd.read_csv(\"../Data/insurance.csv\")"
   ]
  },
  {
   "cell_type": "code",
   "execution_count": 0,
   "metadata": {
    "application/vnd.databricks.v1+cell": {
     "cellMetadata": {},
     "inputWidgets": {},
     "nuid": "bc541610-856f-4dc1-b56f-206184e6df1c",
     "showTitle": false,
     "tableResultSettingsMap": {},
     "title": ""
    }
   },
   "outputs": [],
   "source": [
    "insurance_df.head()"
   ]
  },
  {
   "cell_type": "code",
   "execution_count": 0,
   "metadata": {
    "application/vnd.databricks.v1+cell": {
     "cellMetadata": {},
     "inputWidgets": {},
     "nuid": "511208fe-47b4-44e4-b5cb-7fb4a5fa07d5",
     "showTitle": false,
     "tableResultSettingsMap": {},
     "title": ""
    }
   },
   "outputs": [],
   "source": [
    "insurance_df.corr(numeric_only=True)"
   ]
  },
  {
   "cell_type": "code",
   "execution_count": 0,
   "metadata": {
    "application/vnd.databricks.v1+cell": {
     "cellMetadata": {},
     "inputWidgets": {},
     "nuid": "eac1d8e8-e07d-4ae2-924e-6dabcaee6190",
     "showTitle": false,
     "tableResultSettingsMap": {},
     "title": ""
    }
   },
   "outputs": [],
   "source": [
    "sns.scatterplot(insurance_df, x=\"age\", y=\"charges\")"
   ]
  },
  {
   "cell_type": "code",
   "execution_count": 0,
   "metadata": {
    "application/vnd.databricks.v1+cell": {
     "cellMetadata": {},
     "inputWidgets": {},
     "nuid": "75a3a56f-84a1-4323-a012-e6528f45ed54",
     "showTitle": false,
     "tableResultSettingsMap": {},
     "title": ""
    }
   },
   "outputs": [],
   "source": [
    "features = [\"age\", \"bmi\", \"children\"]\n",
    "\n",
    "X = sm.add_constant(insurance_df[features])\n",
    "y = insurance_df[\"charges\"]\n",
    "\n",
    "model = sm.OLS(y, X).fit()\n",
    "\n",
    "model.summary()"
   ]
  },
  {
   "cell_type": "code",
   "execution_count": 0,
   "metadata": {
    "application/vnd.databricks.v1+cell": {
     "cellMetadata": {},
     "inputWidgets": {},
     "nuid": "0cac4b0a-71d9-4cfa-bfe2-84ed4d0f3475",
     "showTitle": false,
     "tableResultSettingsMap": {},
     "title": ""
    }
   },
   "outputs": [],
   "source": [
    "sns.scatterplot(x=model.predict(), y=model.resid)"
   ]
  },
  {
   "cell_type": "markdown",
   "metadata": {
    "application/vnd.databricks.v1+cell": {
     "cellMetadata": {},
     "inputWidgets": {},
     "nuid": "499dbc46-dbce-4c0e-8706-2e3801476cda",
     "showTitle": false,
     "tableResultSettingsMap": {},
     "title": ""
    }
   },
   "source": [
    "## QQ Plot"
   ]
  },
  {
   "cell_type": "code",
   "execution_count": 0,
   "metadata": {
    "application/vnd.databricks.v1+cell": {
     "cellMetadata": {},
     "inputWidgets": {},
     "nuid": "07abd91e-f964-4e26-9419-c656f5afdeb8",
     "showTitle": false,
     "tableResultSettingsMap": {},
     "title": ""
    }
   },
   "outputs": [],
   "source": [
    "import scipy.stats as stats\n",
    "import matplotlib.pyplot as plt\n",
    "\n",
    "stats.probplot(model.resid, dist=\"norm\", plot=plt);"
   ]
  },
  {
   "cell_type": "markdown",
   "metadata": {
    "application/vnd.databricks.v1+cell": {
     "cellMetadata": {},
     "inputWidgets": {},
     "nuid": "22f299c9-1757-490a-98d0-18eb4992a310",
     "showTitle": false,
     "tableResultSettingsMap": {},
     "title": ""
    }
   },
   "source": [
    "## Log Transform"
   ]
  },
  {
   "cell_type": "code",
   "execution_count": 0,
   "metadata": {
    "application/vnd.databricks.v1+cell": {
     "cellMetadata": {},
     "inputWidgets": {},
     "nuid": "c4488252-c310-4ada-a630-4eb1f2e22f91",
     "showTitle": false,
     "tableResultSettingsMap": {},
     "title": ""
    }
   },
   "outputs": [],
   "source": [
    "features = [\"age\", \"bmi\", \"children\"]\n",
    "\n",
    "X = sm.add_constant(insurance_df[features])\n",
    "y = np.log(insurance_df[\"charges\"])\n",
    "\n",
    "model = sm.OLS(y, X).fit()\n",
    "\n",
    "model.summary()"
   ]
  },
  {
   "cell_type": "code",
   "execution_count": 0,
   "metadata": {
    "application/vnd.databricks.v1+cell": {
     "cellMetadata": {},
     "inputWidgets": {},
     "nuid": "166384ba-5abf-44b0-be94-959a8c0fbba8",
     "showTitle": false,
     "tableResultSettingsMap": {},
     "title": ""
    }
   },
   "outputs": [],
   "source": [
    "sns.scatterplot(x=model.predict(), y=model.resid);"
   ]
  },
  {
   "cell_type": "code",
   "execution_count": 0,
   "metadata": {
    "application/vnd.databricks.v1+cell": {
     "cellMetadata": {},
     "inputWidgets": {},
     "nuid": "a708b57b-b612-432b-a470-c35e715c0fa9",
     "showTitle": false,
     "tableResultSettingsMap": {},
     "title": ""
    }
   },
   "outputs": [],
   "source": [
    "stats.probplot(model.resid, dist=\"norm\", plot=plt);"
   ]
  },
  {
   "cell_type": "code",
   "execution_count": 0,
   "metadata": {
    "application/vnd.databricks.v1+cell": {
     "cellMetadata": {},
     "inputWidgets": {},
     "nuid": "498d95af-e039-413f-8449-de88cb57e963",
     "showTitle": false,
     "tableResultSettingsMap": {},
     "title": ""
    }
   },
   "outputs": [],
   "source": [
    "# Residual Plot Helper Functions\n",
    "\n",
    "def residual_analysis_plots(model):\n",
    "    \n",
    "    import scipy.stats as stats\n",
    "    import matplotlib.pyplot as plt\n",
    "    \n",
    "    predictions = model.predict()\n",
    "    residuals = model.resid\n",
    "    \n",
    "    fig, ax = plt.subplots(1, 2, sharey=\"all\", figsize=(10, 6))\n",
    "    \n",
    "    sns.scatterplot(x=predictions, y=residuals, ax=ax[0])\n",
    "    ax[0].set_title(\"Residual Plot\")\n",
    "    ax[0].set_xlabel(\"Prediction\")\n",
    "    ax[0].set_ylabel(\"Residuals\")\n",
    "    \n",
    "    stats.probplot(residuals, dist=\"norm\", plot=ax[1])\n",
    "    ax[1].set_title(\"Normal Q-Q Plot\")   "
   ]
  },
  {
   "cell_type": "code",
   "execution_count": 0,
   "metadata": {
    "application/vnd.databricks.v1+cell": {
     "cellMetadata": {},
     "inputWidgets": {},
     "nuid": "85948af2-b93a-4320-921c-dbdf2c6b956c",
     "showTitle": false,
     "tableResultSettingsMap": {},
     "title": ""
    }
   },
   "outputs": [],
   "source": [
    "residual_analysis_plots(model)"
   ]
  },
  {
   "cell_type": "code",
   "execution_count": 0,
   "metadata": {
    "application/vnd.databricks.v1+cell": {
     "cellMetadata": {},
     "inputWidgets": {},
     "nuid": "85d7f113-b829-4b9d-bcc5-92cb1481a357",
     "showTitle": false,
     "tableResultSettingsMap": {},
     "title": ""
    }
   },
   "outputs": [],
   "source": [
    "insurance_df = insurance_df.assign(\n",
    "    smoker_flag=np.where(insurance_df[\"smoker\"] == \"yes\", 1, 0),\n",
    "    female_flag=np.where(insurance_df[\"sex\"] == \"female\", 1, 0),\n",
    "    bmi_smoker_int = lambda x: x[\"bmi\"] * x[\"smoker_flag\"],\n",
    "#     age_bmi_int = insurance_df[\"bmi\"] * insurance_df[\"age\"],\n",
    "#     smoker_sex_int = insurance_df[\"smoker_flag\"] * insurance_df[\"female_flag\"]\n",
    "#     age_smoker_int = insurance_df[\"age\"] * insurance_df[\"smoker_flag\"],\n",
    "    age_sq = insurance_df[\"age\"] ** 2,\n",
    ")#.query(\"charges < 20000\")\n",
    "\n"
   ]
  },
  {
   "cell_type": "code",
   "execution_count": 0,
   "metadata": {
    "application/vnd.databricks.v1+cell": {
     "cellMetadata": {},
     "inputWidgets": {},
     "nuid": "a5c0fba3-9a6f-42dd-b1fd-afb895af7186",
     "showTitle": false,
     "tableResultSettingsMap": {},
     "title": ""
    }
   },
   "outputs": [],
   "source": [
    "sns.lmplot(insurance_df, x=\"bmi\", y=\"charges\", hue=\"smoker_flag\")"
   ]
  },
  {
   "cell_type": "code",
   "execution_count": 0,
   "metadata": {
    "application/vnd.databricks.v1+cell": {
     "cellMetadata": {},
     "inputWidgets": {},
     "nuid": "41eb8036-d195-4a6a-a8c4-7b7678bf7486",
     "showTitle": false,
     "tableResultSettingsMap": {},
     "title": ""
    }
   },
   "outputs": [],
   "source": [
    "# Introduces Perfect Multicollinearity\n",
    "\n",
    "insurance_df[\"age2x\"] = insurance_df[\"age\"] * 2"
   ]
  },
  {
   "cell_type": "markdown",
   "metadata": {
    "application/vnd.databricks.v1+cell": {
     "cellMetadata": {},
     "inputWidgets": {},
     "nuid": "156c8183-a9cb-4142-b2b3-5a3e866445dd",
     "showTitle": false,
     "tableResultSettingsMap": {},
     "title": ""
    }
   },
   "source": [
    "### Attempts to fix normality issues - feature engineering & Target Transforms"
   ]
  },
  {
   "cell_type": "code",
   "execution_count": 0,
   "metadata": {
    "application/vnd.databricks.v1+cell": {
     "cellMetadata": {},
     "inputWidgets": {},
     "nuid": "7e717639-660e-48e3-ba77-2b71f8b66e07",
     "showTitle": false,
     "tableResultSettingsMap": {},
     "title": ""
    }
   },
   "outputs": [],
   "source": [
    "features = [\n",
    "    \"age\", \n",
    "#     \"age2x\"\n",
    "    \"age_sq\",\n",
    "    \"bmi\", \n",
    "    \"children\", \n",
    "    \"smoker_flag\", \n",
    "#     \"female_flag\", \n",
    "#     \"bmi_smoker_int\", \n",
    "#     \"age_bmi_int\",\n",
    "#     \"smoker_sex_int\"\n",
    "]\n",
    "\n",
    "X = sm.add_constant(insurance_df[features])\n",
    "y = insurance_df[\"charges\"]\n",
    "# y = np.sqrt(insurance_df[\"charges\"])\n",
    "# y = np.log(insurance_df[\"charges\"])\n",
    "# y = np.log10(insurance_df[\"charges\"])\n",
    "# y = 1/(insurance_df[\"charges\"])\n",
    "\n",
    "#box-cox\n",
    "\n",
    "from scipy.stats import boxcox\n",
    "\n",
    "# y, fitted_lambda = boxcox(insurance_df[\"charges\"])\n",
    "\n",
    "# sns.histplot(y).set(xlabel=\"box_cox_price\", title=\"Box-Cox Transformation\")\n",
    "\n",
    "# sns.despine()\n",
    "\n",
    "model = sm.OLS(y, X).fit()\n",
    "\n",
    "model.summary()"
   ]
  },
  {
   "cell_type": "markdown",
   "metadata": {
    "application/vnd.databricks.v1+cell": {
     "cellMetadata": {},
     "inputWidgets": {},
     "nuid": "d3473c97-ef1f-463a-a473-66f830467d1a",
     "showTitle": false,
     "tableResultSettingsMap": {},
     "title": ""
    }
   },
   "source": [
    "### Multicollinearity & VIF"
   ]
  },
  {
   "cell_type": "code",
   "execution_count": 0,
   "metadata": {
    "application/vnd.databricks.v1+cell": {
     "cellMetadata": {},
     "inputWidgets": {},
     "nuid": "8a583eaf-847e-40f3-a41d-2e1d718ed733",
     "showTitle": false,
     "tableResultSettingsMap": {},
     "title": ""
    }
   },
   "outputs": [],
   "source": [
    "from statsmodels.stats.outliers_influence import variance_inflation_factor as vif\n",
    "\n",
    "pd.Series(\n",
    "    [vif(X.values, i) for i in range(X.shape[1])],\n",
    "    index=X.columns\n",
    ")"
   ]
  },
  {
   "cell_type": "markdown",
   "metadata": {
    "application/vnd.databricks.v1+cell": {
     "cellMetadata": {},
     "inputWidgets": {},
     "nuid": "98e83b4c-daf4-456b-953e-9b07e0c160a5",
     "showTitle": false,
     "tableResultSettingsMap": {},
     "title": ""
    }
   },
   "source": [
    "### Target Transformation Distributions"
   ]
  },
  {
   "cell_type": "code",
   "execution_count": 0,
   "metadata": {
    "application/vnd.databricks.v1+cell": {
     "cellMetadata": {},
     "inputWidgets": {},
     "nuid": "3f698faa-a6a7-46b0-b652-fa1405bb6e76",
     "showTitle": false,
     "tableResultSettingsMap": {},
     "title": ""
    }
   },
   "outputs": [],
   "source": [
    "# y = insurance_df[\"charges\"]\n",
    "# y = np.sqrt(insurance_df[\"charges\"])\n",
    "y = np.log(insurance_df[\"charges\"])\n",
    "# y = np.log10(insurance_df[\"charges\"])\n",
    "# y = 1/(insurance_df[\"charges\"])\n",
    "\n",
    "sns.histplot(y);"
   ]
  },
  {
   "cell_type": "code",
   "execution_count": 0,
   "metadata": {
    "application/vnd.databricks.v1+cell": {
     "cellMetadata": {},
     "inputWidgets": {},
     "nuid": "15546b48-7ff9-4b39-8167-bb5a7d714ab5",
     "showTitle": false,
     "tableResultSettingsMap": {},
     "title": ""
    }
   },
   "outputs": [],
   "source": [
    "residual_analysis_plots(model)"
   ]
  },
  {
   "cell_type": "code",
   "execution_count": 0,
   "metadata": {
    "application/vnd.databricks.v1+cell": {
     "cellMetadata": {},
     "inputWidgets": {},
     "nuid": "ef1c4de7-9522-4daf-a40b-54019591d212",
     "showTitle": false,
     "tableResultSettingsMap": {},
     "title": ""
    }
   },
   "outputs": [],
   "source": [
    "from sklearn.metrics import mean_absolute_error as mae\n",
    "\n",
    "mae(y, model.predict())\n",
    "# mae(np.exp(y), np.exp(model.predict()))"
   ]
  },
  {
   "cell_type": "code",
   "execution_count": 0,
   "metadata": {
    "application/vnd.databricks.v1+cell": {
     "cellMetadata": {},
     "inputWidgets": {},
     "nuid": "f6608d00-1521-466a-a1c5-a56626a7319e",
     "showTitle": false,
     "tableResultSettingsMap": {},
     "title": ""
    }
   },
   "outputs": [],
   "source": [
    "features = [\n",
    "    \"age\", \n",
    "    \"bmi\", \n",
    "    \"children\", \n",
    "]\n",
    "\n",
    "X = sm.add_constant(insurance_df[features])\n",
    "\n",
    "y = insurance_df[\"charges\"]\n",
    "\n",
    "model = sm.OLS(y, X).fit()\n",
    "\n",
    "model.summary()"
   ]
  },
  {
   "cell_type": "code",
   "execution_count": 0,
   "metadata": {
    "application/vnd.databricks.v1+cell": {
     "cellMetadata": {},
     "inputWidgets": {},
     "nuid": "e7794cda-aaea-4d1b-bbf7-a26d41807f25",
     "showTitle": false,
     "tableResultSettingsMap": {},
     "title": ""
    }
   },
   "outputs": [],
   "source": [
    "residual_analysis_plots(model)"
   ]
  },
  {
   "cell_type": "markdown",
   "metadata": {
    "application/vnd.databricks.v1+cell": {
     "cellMetadata": {},
     "inputWidgets": {},
     "nuid": "9331dc92-b5a3-4210-b843-1f51b8f4c493",
     "showTitle": false,
     "tableResultSettingsMap": {},
     "title": ""
    }
   },
   "source": [
    "### Outliers & Influence"
   ]
  },
  {
   "cell_type": "code",
   "execution_count": 0,
   "metadata": {
    "application/vnd.databricks.v1+cell": {
     "cellMetadata": {},
     "inputWidgets": {},
     "nuid": "ef74c9c5-2ca1-4f5c-b1d8-bc472bc31352",
     "showTitle": false,
     "tableResultSettingsMap": {},
     "title": ""
    }
   },
   "outputs": [],
   "source": [
    "influence = model.get_influence()\n",
    "inf_summary_df = influence.summary_frame()\n",
    "inf_summary_df.head()"
   ]
  },
  {
   "cell_type": "code",
   "execution_count": 0,
   "metadata": {
    "application/vnd.databricks.v1+cell": {
     "cellMetadata": {},
     "inputWidgets": {},
     "nuid": "ec720b31-380f-4135-bf8a-2ea827482a8e",
     "showTitle": false,
     "tableResultSettingsMap": {},
     "title": ""
    }
   },
   "outputs": [],
   "source": [
    "inf_summary_df[\"cooks_d\"].sort_values(ascending=False).round(2)"
   ]
  },
  {
   "cell_type": "code",
   "execution_count": 0,
   "metadata": {
    "application/vnd.databricks.v1+cell": {
     "cellMetadata": {},
     "inputWidgets": {},
     "nuid": "f2203c0f-5d5a-4691-a1b6-b75986f9bd73",
     "showTitle": false,
     "tableResultSettingsMap": {},
     "title": ""
    }
   },
   "outputs": [],
   "source": []
  }
 ],
 "metadata": {
  "application/vnd.databricks.v1+notebook": {
   "computePreferences": null,
   "dashboards": [],
   "environmentMetadata": null,
   "inputWidgetPreferences": null,
   "language": "python",
   "notebookMetadata": {},
   "notebookName": "04_Assumptions_Demos",
   "widgets": {}
  },
  "kernelspec": {
   "display_name": "Python 3 (ipykernel)",
   "language": "python",
   "name": "python3"
  },
  "language_info": {
   "name": "python"
  }
 },
 "nbformat": 4,
 "nbformat_minor": 0
}
