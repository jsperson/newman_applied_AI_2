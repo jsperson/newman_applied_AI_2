{
 "cells": [
  {
   "cell_type": "markdown",
   "metadata": {
    "application/vnd.databricks.v1+cell": {
     "cellMetadata": {},
     "inputWidgets": {},
     "nuid": "85c9bb92-217e-45fb-aa70-b7ca1e842da7",
     "showTitle": false,
     "tableResultSettingsMap": {},
     "title": ""
    }
   },
   "source": [
    "## Feature Engineering Demos"
   ]
  },
  {
   "cell_type": "code",
   "execution_count": 0,
   "metadata": {
    "application/vnd.databricks.v1+cell": {
     "cellMetadata": {},
     "inputWidgets": {},
     "nuid": "814b3980-1147-459b-baa8-e026d57f4b20",
     "showTitle": false,
     "tableResultSettingsMap": {},
     "title": ""
    }
   },
   "outputs": [],
   "source": [
    "import pandas as pd\n",
    "import numpy as np\n",
    "import seaborn as sns\n",
    "import statsmodels.api as sm\n",
    "\n",
    "insurance_df = pd.read_csv(\"../Data/insurance.csv\")\n",
    "\n",
    "insurance_df.head()"
   ]
  },
  {
   "cell_type": "code",
   "execution_count": 0,
   "metadata": {
    "application/vnd.databricks.v1+cell": {
     "cellMetadata": {},
     "inputWidgets": {},
     "nuid": "61d001f9-766d-4bdb-b8d4-36b14f794d87",
     "showTitle": false,
     "tableResultSettingsMap": {},
     "title": ""
    }
   },
   "outputs": [],
   "source": [
    "def value_counter(dataframe):\n",
    "    value_series = pd.DataFrame()\n",
    "    for col in dataframe.select_dtypes([\"object\"]).columns:\n",
    "        print(dataframe[col].value_counts())\n",
    "             \n",
    "value_counter(insurance_df)"
   ]
  },
  {
   "cell_type": "code",
   "execution_count": 0,
   "metadata": {
    "application/vnd.databricks.v1+cell": {
     "cellMetadata": {},
     "inputWidgets": {},
     "nuid": "c0687c11-8aae-46e0-8fe0-894ea430d30c",
     "showTitle": false,
     "tableResultSettingsMap": {},
     "title": ""
    }
   },
   "outputs": [],
   "source": [
    "def cat_plotter(data, target):\n",
    "    import matplotlib.pyplot as plt\n",
    "    for col in data.select_dtypes([\"object\"]).columns:\n",
    "        sns.barplot(data=data, x=col, y=target)\n",
    "        plt.xticks(rotation=45)\n",
    "        plt.show()\n",
    "        \n",
    "cat_plotter(insurance_df, \"charges\")"
   ]
  },
  {
   "cell_type": "code",
   "execution_count": 0,
   "metadata": {
    "application/vnd.databricks.v1+cell": {
     "cellMetadata": {},
     "inputWidgets": {},
     "nuid": "dbac3341-f603-4244-9038-514d2807ed70",
     "showTitle": false,
     "tableResultSettingsMap": {},
     "title": ""
    }
   },
   "outputs": [],
   "source": [
    "region_dict = {\n",
    "    \"northwest\": \"west\",\n",
    "    \"southwest\": \"west\",\n",
    "    \"northeast\": \"east\",\n",
    "    \"southeast\": \"east\",\n",
    "}\n",
    "\n",
    "insurance_df[\"region_group\"] = insurance_df[\"region\"].map(region_dict)\n",
    "\n",
    "insurance_df[\"region_group\"].value_counts()"
   ]
  },
  {
   "cell_type": "code",
   "execution_count": 0,
   "metadata": {
    "application/vnd.databricks.v1+cell": {
     "cellMetadata": {},
     "inputWidgets": {},
     "nuid": "0c520342-e79b-475e-96dc-27d005c8c09a",
     "showTitle": false,
     "tableResultSettingsMap": {},
     "title": ""
    }
   },
   "outputs": [],
   "source": [
    "insurance_df[\"has_child\"] = np.where(insurance_df[\"children\"] > 0, 1, 0)\n",
    "\n",
    "insurance_df[\"has_child\"].value_counts()"
   ]
  },
  {
   "cell_type": "code",
   "execution_count": 0,
   "metadata": {
    "application/vnd.databricks.v1+cell": {
     "cellMetadata": {},
     "inputWidgets": {},
     "nuid": "8b9b0d92-2239-4d67-9f5c-1d5b20616065",
     "showTitle": false,
     "tableResultSettingsMap": {},
     "title": ""
    }
   },
   "outputs": [],
   "source": [
    "insurance_df = insurance_df.drop([\"region\", \"sex\"], axis=1)"
   ]
  },
  {
   "cell_type": "code",
   "execution_count": 0,
   "metadata": {
    "application/vnd.databricks.v1+cell": {
     "cellMetadata": {},
     "inputWidgets": {},
     "nuid": "344dc128-0ae2-4f97-95d2-bc20f98d2fe5",
     "showTitle": false,
     "tableResultSettingsMap": {},
     "title": ""
    }
   },
   "outputs": [],
   "source": [
    "from sklearn.model_selection import train_test_split\n",
    "\n",
    "\n",
    "insurance_df = (\n",
    "    pd.get_dummies(insurance_df, drop_first=True)\n",
    "    .assign(\n",
    "        age_sq = insurance_df[\"age\"]**2,\n",
    "#         smoker_bmi_int = lambda x: x[\"smoker_yes\"] * x[\"bmi\"]\n",
    "           )\n",
    ")\n",
    "\n",
    "X = sm.add_constant(insurance_df.drop([\"charges\"], axis=1))\n",
    "y = insurance_df[\"charges\"]\n",
    "\n",
    "X, X_test, y, y_test = train_test_split(X, y, test_size=.2, random_state=2023)\n",
    "\n",
    "X.head()"
   ]
  },
  {
   "cell_type": "code",
   "execution_count": 0,
   "metadata": {
    "application/vnd.databricks.v1+cell": {
     "cellMetadata": {},
     "inputWidgets": {},
     "nuid": "d5ecce89-f5d0-48c8-8e7d-0469ff636add",
     "showTitle": false,
     "tableResultSettingsMap": {},
     "title": ""
    }
   },
   "outputs": [],
   "source": [
    "from sklearn.model_selection import KFold\n",
    "from sklearn.metrics import r2_score as r2\n",
    "from sklearn.metrics import mean_absolute_error as mae\n",
    "\n",
    "\n",
    "kf = KFold(n_splits=5, shuffle=True, random_state=2023)\n",
    "\n",
    "# Create a list to store validation scores for each fold\n",
    "cv_lm_r2s = []\n",
    "cv_lm_mae = []\n",
    "\n",
    "# Loop through each fold in X and y\n",
    "for train_ind, val_ind in kf.split(X, y):\n",
    "    # Subset data based on CV folds\n",
    "    X_train, y_train = X.iloc[train_ind], y.iloc[train_ind]\n",
    "    X_val, y_val = X.iloc[val_ind], y.iloc[val_ind]\n",
    "    # Fit the Model on fold's training data\n",
    "    model = sm.OLS(y_train, X_train).fit()\n",
    "    # Append Validation score to list \n",
    "    cv_lm_r2s.append(r2(y_val, model.predict(X_val),))\n",
    "    cv_lm_mae.append(mae(y_val, model.predict(X_val),))\n",
    "\n",
    "print(\"All Validation R2s: \", [round(x, 3) for x in cv_lm_r2s])\n",
    "print(f\"Cross Val R2s: {round(np.mean(cv_lm_r2s), 3)} +- {round(np.std(cv_lm_r2s), 3)}\")\n",
    "\n",
    "print(\"All Validation MAEs: \", [round(x, 3) for x in cv_lm_mae])\n",
    "print(f\"Cross Val MAEs: {round(np.mean(cv_lm_mae), 3)} +- {round(np.std(cv_lm_mae), 3)}\")"
   ]
  },
  {
   "cell_type": "code",
   "execution_count": 0,
   "metadata": {
    "application/vnd.databricks.v1+cell": {
     "cellMetadata": {},
     "inputWidgets": {},
     "nuid": "a8f8f416-7dd4-4bfa-9b52-02fa8dc8dba9",
     "showTitle": false,
     "tableResultSettingsMap": {},
     "title": ""
    }
   },
   "outputs": [],
   "source": []
  },
  {
   "cell_type": "code",
   "execution_count": 0,
   "metadata": {
    "application/vnd.databricks.v1+cell": {
     "cellMetadata": {},
     "inputWidgets": {},
     "nuid": "5dca5310-ed91-4f60-bd52-331503f520c5",
     "showTitle": false,
     "tableResultSettingsMap": {},
     "title": ""
    }
   },
   "outputs": [],
   "source": [
    "model = sm.OLS(y, X).fit()\n",
    "\n",
    "# print(f\"Test R2: {r2(y_test, model.predict(X_test))}\")\n",
    "# print(f\"Test MAE: {mae(y_test, model.predict(X_test))}\")"
   ]
  },
  {
   "cell_type": "code",
   "execution_count": 0,
   "metadata": {
    "application/vnd.databricks.v1+cell": {
     "cellMetadata": {},
     "inputWidgets": {},
     "nuid": "6851395d-bd83-4d40-8c26-528b31ba9e48",
     "showTitle": false,
     "tableResultSettingsMap": {},
     "title": ""
    }
   },
   "outputs": [],
   "source": [
    "model.summary()"
   ]
  },
  {
   "cell_type": "code",
   "execution_count": 0,
   "metadata": {
    "application/vnd.databricks.v1+cell": {
     "cellMetadata": {},
     "inputWidgets": {},
     "nuid": "44c41c7f-1452-459d-91a8-fc3c5e169ab2",
     "showTitle": false,
     "tableResultSettingsMap": {},
     "title": ""
    }
   },
   "outputs": [],
   "source": [
    "orders = pd.DataFrame({\n",
    "    \"Customer_ID\": [10001, 10001, 10002, 10002, 10003, 10004],\n",
    "    \"Order_Date\": [\"2023-01-25\", \"2023-06-13\", \"2023-02-02\", \"2023-02-02\", \"2023-05-15\", \"2023-02-17\"],\n",
    "    \"Product_ID\": [\"GPQ-123\", \"QP3-111\", \"GPQ-123\", \"ACD-489\", \"GPQ-123\", \"QP3-123\"],\n",
    "    \"Item_Price\": [59.99, 79.99, 59.99, 19.99, 59.99, 79.99],\n",
    "    \"Quantity\": [3, 5, 1, 2, 1, 4],\n",
    "}).astype({\"Order_Date\": \"datetime64\"})\n",
    "\n",
    "orders.head()"
   ]
  },
  {
   "cell_type": "code",
   "execution_count": 0,
   "metadata": {
    "application/vnd.databricks.v1+cell": {
     "cellMetadata": {},
     "inputWidgets": {},
     "nuid": "918144ee-059e-4ecc-beb2-79381b3cdbbd",
     "showTitle": false,
     "tableResultSettingsMap": {},
     "title": ""
    }
   },
   "outputs": [],
   "source": [
    "orders = orders.assign(\n",
    "    total_value = orders[\"Item_Price\"] * orders[\"Quantity\"],\n",
    "    days_since_last_purchase = (pd.Timestamp.today() - orders[\"Order_Date\"]).dt.days,\n",
    ")\n",
    "\n",
    "orders.head()"
   ]
  },
  {
   "cell_type": "code",
   "execution_count": 0,
   "metadata": {
    "application/vnd.databricks.v1+cell": {
     "cellMetadata": {},
     "inputWidgets": {},
     "nuid": "8a0a92d2-3313-4923-b75e-400da2a59b11",
     "showTitle": false,
     "tableResultSettingsMap": {},
     "title": ""
    }
   },
   "outputs": [],
   "source": [
    "orders.groupby(\"Customer_ID\").agg(\n",
    "    total_items_sold = (\"Quantity\", \"sum\"),\n",
    "    average_value = (\"total_value\", \"mean\")\n",
    ")"
   ]
  },
  {
   "cell_type": "code",
   "execution_count": 0,
   "metadata": {
    "application/vnd.databricks.v1+cell": {
     "cellMetadata": {},
     "inputWidgets": {},
     "nuid": "fc7ec2e3-4a60-4ad5-827a-35c85f5b6423",
     "showTitle": false,
     "tableResultSettingsMap": {},
     "title": ""
    }
   },
   "outputs": [],
   "source": [
    "# def add_deviation_feature(X, feature, category):\n",
    "    \n",
    "#     # temp groupby object\n",
    "#     category_gb = X.groupby(category)[feature]\n",
    "    \n",
    "#     # create columns of category means and standard deviations\n",
    "#     category_mean = category_gb.transform(lambda x: x.mean())\n",
    "#     category_std = category_gb.transform(lambda x: x.std())\n",
    "    \n",
    "#     # compute stds from category mean for each feature value,\n",
    "#     # add to X as new feature\n",
    "#     deviation_feature = (X[feature] - category_mean) / category_std \n",
    "#     X[feature + '_Dev_' + category] = deviation_feature\n",
    "\n",
    "\n",
    "# add_deviation_feature(insurance_df, 'bmi', 'smoker')\n",
    "\n",
    "insurance_df.tail()"
   ]
  },
  {
   "cell_type": "code",
   "execution_count": 0,
   "metadata": {
    "application/vnd.databricks.v1+cell": {
     "cellMetadata": {},
     "inputWidgets": {},
     "nuid": "9ddcd025-f1d0-4908-92ab-76bb8b9bece1",
     "showTitle": false,
     "tableResultSettingsMap": {},
     "title": ""
    }
   },
   "outputs": [],
   "source": []
  }
 ],
 "metadata": {
  "application/vnd.databricks.v1+notebook": {
   "computePreferences": null,
   "dashboards": [],
   "environmentMetadata": null,
   "inputWidgetPreferences": null,
   "language": "python",
   "notebookMetadata": {},
   "notebookName": "06_feature_engineering_demos",
   "widgets": {}
  },
  "kernelspec": {
   "display_name": "Python 3 (ipykernel)",
   "language": "python",
   "name": "python3"
  },
  "language_info": {
   "name": "python"
  }
 },
 "nbformat": 4,
 "nbformat_minor": 0
}
